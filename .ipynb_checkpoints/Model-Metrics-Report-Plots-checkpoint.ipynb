{
 "cells": [
  {
   "cell_type": "code",
   "execution_count": 1,
   "id": "02aff84a",
   "metadata": {},
   "outputs": [],
   "source": [
    "import torch.nn as nn\n",
    "import torch as T\n",
    "import pandas as pd\n",
    "import numpy as np\n",
    "import matplotlib.pyplot as plt\n",
    "import json\n",
    "from random import randint, random\n",
    "from sklearn.preprocessing import MinMaxScaler\n",
    "from sklearn.metrics import r2_score\n",
    "from sklearn.metrics import mean_absolute_error\n",
    "from sklearn.metrics import mean_squared_error\n",
    "from src.pecan_dataport.participant_preprocessing import PecanParticipantPreProcessing"
   ]
  },
  {
   "cell_type": "markdown",
   "id": "a8399c00",
   "metadata": {},
   "source": [
    "# Classes and methods creation"
   ]
  },
  {
   "cell_type": "code",
   "execution_count": 19,
   "id": "4b316333",
   "metadata": {},
   "outputs": [
    {
     "ename": "IndentationError",
     "evalue": "unexpected indent (3968556846.py, line 18)",
     "output_type": "error",
     "traceback": [
      "\u001b[1;36m  Input \u001b[1;32mIn [19]\u001b[1;36m\u001b[0m\n\u001b[1;33m    angles = np.linspace(0, 2 * np.pi, num_vars, endpoint=False).tolist()\u001b[0m\n\u001b[1;37m    ^\u001b[0m\n\u001b[1;31mIndentationError\u001b[0m\u001b[1;31m:\u001b[0m unexpected indent\n"
     ]
    }
   ],
   "source": [
    "def MSEError(labels, predictions):\n",
    "    return np.sum(np.diff([labels, predictions], axis=0)**2)/len(predictions)\n",
    "\n",
    "def RMSEError(labels, predictions):\n",
    "    return (MSEError(labels, predictions))**0.5\n",
    "\n",
    "def MAEError(labels, predictions):\n",
    "    return np.sum(abs(np.diff([labels, predictions], axis=0)))/len(predictions)\n",
    "\n",
    "def MAPEError(labels, predictions):\n",
    "    return np.sum(abs(np.divide(np.diff([labels, predictions], axis=0), labels)))/len(predictions)\n",
    "\n",
    "def descale(descaler, values):\n",
    "    values_2d = np.array(values)[:, np.newaxis]\n",
    "    return descaler.inverse_transform(values_2d).flatten()\n",
    "\n",
    "def PolarPlotMaker(labels: list, values: list, primary_value_ref: str, polar_color:str, secundary_color: str, secundary_value_ref: str, polar_legend: str, secundary_values: pd.DataFrame=None, filename:str='Plot'):\n",
    "    num_vars = len(labels)\n",
    "    angles = np.linspace(0, 2 * np.pi, num_vars, endpoint=False).tolist()\n",
    "\n",
    "    fig, ax = plt.subplots(figsize=(6, 6), subplot_kw=dict(polar=True))\n",
    "    \n",
    "    ax.plot(angles, values, color=polar_color, linewidth=1, label=primary_value_ref)\n",
    "    ax.fill(angles, values, color=polar_color, alpha=0.25)\n",
    "\n",
    "    ax.plot(angles, secundary_values, color=secundary_color, linewidth=1, label=secundary_value_ref)\n",
    "    ax.fill(angles, secundary_values, color=secundary_color, alpha=0.25)\n",
    "\n",
    "    ax.set_theta_offset(np.pi / 2)\n",
    "    ax.set_theta_direction(-1)\n",
    "    ax.set_thetagrids(np.degrees(angles), labels)\n",
    "\n",
    "    for label, angle in zip(ax.get_xticklabels(), angles):\n",
    "        if angle in (0, np.pi):\n",
    "            label.set_horizontalalignment('center')\n",
    "        elif 0 < angle < np.pi:\n",
    "            label.set_horizontalalignment('left')\n",
    "        else:\n",
    "            label.set_horizontalalignment('right')\n",
    "\n",
    "    ax.set_rlabel_position(180 / num_vars)\n",
    "    ax.set_title(polar_legend, y=1.08)\n",
    "    ax.legend(loc='upper right', bbox_to_anchor=(1.3, 1.1))\n",
    "    plt.savefig(f'methodology/imgs/results/reports/comparing_error_{filename}.eps', dpi=600, bbox_inches='tight')\n",
    "    plt.savefig(f'methodology/imgs/results/reports/comparing_error_{filename}.svg', dpi=600, bbox_inches='tight')\n",
    "    plt.savefig(f'methodology/imgs/results/reports/comparing_error_{filename}.png', dpi=600, bbox_inches='tight')\n",
    "\n",
    "    plt.show()"
   ]
  },
  {
   "cell_type": "code",
   "execution_count": 3,
   "id": "8d40b92c",
   "metadata": {},
   "outputs": [
    {
     "name": "stdout",
     "output_type": "stream",
     "text": [
      "[!] - Trainable dataframe shape - (129086, 28)\n",
      "[*] Train dataframe shape: (90360, 28)\n",
      "[*] Validation dataframe shape: (25817, 28)\n",
      "[*] Test dataframe shape: (12909, 28)\n"
     ]
    },
    {
     "name": "stderr",
     "output_type": "stream",
     "text": [
      "100%|█████████████████████████████████████████████████████████████████████████| 90300/90300 [00:06<00:00, 13133.25it/s]\n",
      "100%|█████████████████████████████████████████████████████████████████████████| 25757/25757 [00:01<00:00, 13049.81it/s]"
     ]
    },
    {
     "name": "stdout",
     "output_type": "stream",
     "text": [
      "[!] Train sequence shape: (60, 28)\n",
      "[!] Val sequence shape: (60, 28)\n"
     ]
    },
    {
     "name": "stderr",
     "output_type": "stream",
     "text": [
      "\n"
     ]
    }
   ],
   "source": [
    "pecan_dataset = PecanParticipantPreProcessing('661_test_30_all', 'data/participants_data/1min/', 60)\n",
    "default_scaler = pecan_dataset.get_scaler()"
   ]
  },
  {
   "cell_type": "code",
   "execution_count": 4,
   "id": "da1b54e8",
   "metadata": {},
   "outputs": [
    {
     "data": {
      "text/html": [
       "<div>\n",
       "<style scoped>\n",
       "    .dataframe tbody tr th:only-of-type {\n",
       "        vertical-align: middle;\n",
       "    }\n",
       "\n",
       "    .dataframe tbody tr th {\n",
       "        vertical-align: top;\n",
       "    }\n",
       "\n",
       "    .dataframe thead th {\n",
       "        text-align: right;\n",
       "    }\n",
       "</style>\n",
       "<table border=\"1\" class=\"dataframe\">\n",
       "  <thead>\n",
       "    <tr style=\"text-align: right;\">\n",
       "      <th></th>\n",
       "      <th>calculate_MSE</th>\n",
       "      <th>calculate_RMSE</th>\n",
       "      <th>calculate_MAE</th>\n",
       "      <th>calculate_MAPE</th>\n",
       "      <th>r2</th>\n",
       "      <th>model</th>\n",
       "    </tr>\n",
       "  </thead>\n",
       "  <tbody>\n",
       "    <tr>\n",
       "      <th>2</th>\n",
       "      <td>0.003829</td>\n",
       "      <td>0.061882</td>\n",
       "      <td>0.034918</td>\n",
       "      <td>0.195160</td>\n",
       "      <td>0.902266</td>\n",
       "      <td>GRU</td>\n",
       "    </tr>\n",
       "    <tr>\n",
       "      <th>0</th>\n",
       "      <td>0.004249</td>\n",
       "      <td>0.065182</td>\n",
       "      <td>0.032485</td>\n",
       "      <td>0.203318</td>\n",
       "      <td>0.891565</td>\n",
       "      <td>LSTM</td>\n",
       "    </tr>\n",
       "    <tr>\n",
       "      <th>1</th>\n",
       "      <td>0.004124</td>\n",
       "      <td>0.064219</td>\n",
       "      <td>0.040503</td>\n",
       "      <td>0.225843</td>\n",
       "      <td>0.894746</td>\n",
       "      <td>RNN</td>\n",
       "    </tr>\n",
       "    <tr>\n",
       "      <th>3</th>\n",
       "      <td>0.006505</td>\n",
       "      <td>0.080653</td>\n",
       "      <td>0.049698</td>\n",
       "      <td>0.334738</td>\n",
       "      <td>0.833982</td>\n",
       "      <td>TST</td>\n",
       "    </tr>\n",
       "    <tr>\n",
       "      <th>4</th>\n",
       "      <td>0.035163</td>\n",
       "      <td>0.187519</td>\n",
       "      <td>0.162907</td>\n",
       "      <td>0.478139</td>\n",
       "      <td>0.102560</td>\n",
       "      <td>Transformer</td>\n",
       "    </tr>\n",
       "  </tbody>\n",
       "</table>\n",
       "</div>"
      ],
      "text/plain": [
       "   calculate_MSE  calculate_RMSE  calculate_MAE  calculate_MAPE        r2  \\\n",
       "2       0.003829        0.061882       0.034918        0.195160  0.902266   \n",
       "0       0.004249        0.065182       0.032485        0.203318  0.891565   \n",
       "1       0.004124        0.064219       0.040503        0.225843  0.894746   \n",
       "3       0.006505        0.080653       0.049698        0.334738  0.833982   \n",
       "4       0.035163        0.187519       0.162907        0.478139  0.102560   \n",
       "\n",
       "         model  \n",
       "2          GRU  \n",
       "0         LSTM  \n",
       "1          RNN  \n",
       "3          TST  \n",
       "4  Transformer  "
      ]
     },
     "execution_count": 4,
     "metadata": {},
     "output_type": "execute_result"
    }
   ],
   "source": [
    "all_data = pd.read_csv('etc/results/metrics/all_metrics.csv', sep=';')\n",
    "all_data = all_data.sort_values(by=['model'])\n",
    "all_data"
   ]
  },
  {
   "cell_type": "code",
   "execution_count": 5,
   "id": "e61f7660",
   "metadata": {},
   "outputs": [
    {
     "data": {
      "text/html": [
       "<div>\n",
       "<style scoped>\n",
       "    .dataframe tbody tr th:only-of-type {\n",
       "        vertical-align: middle;\n",
       "    }\n",
       "\n",
       "    .dataframe tbody tr th {\n",
       "        vertical-align: top;\n",
       "    }\n",
       "\n",
       "    .dataframe thead th {\n",
       "        text-align: right;\n",
       "    }\n",
       "</style>\n",
       "<table border=\"1\" class=\"dataframe\">\n",
       "  <thead>\n",
       "    <tr style=\"text-align: right;\">\n",
       "      <th></th>\n",
       "      <th>calculate_MSE</th>\n",
       "      <th>calculate_RMSE</th>\n",
       "      <th>calculate_MAE</th>\n",
       "      <th>calculate_MAPE</th>\n",
       "      <th>r2</th>\n",
       "      <th>model</th>\n",
       "    </tr>\n",
       "  </thead>\n",
       "  <tbody>\n",
       "    <tr>\n",
       "      <th>2</th>\n",
       "      <td>0.003213</td>\n",
       "      <td>0.056681</td>\n",
       "      <td>0.029107</td>\n",
       "      <td>0.165222</td>\n",
       "      <td>0.918004</td>\n",
       "      <td>GRU</td>\n",
       "    </tr>\n",
       "    <tr>\n",
       "      <th>1</th>\n",
       "      <td>0.004104</td>\n",
       "      <td>0.064062</td>\n",
       "      <td>0.040248</td>\n",
       "      <td>0.207194</td>\n",
       "      <td>0.895259</td>\n",
       "      <td>LSTM</td>\n",
       "    </tr>\n",
       "    <tr>\n",
       "      <th>0</th>\n",
       "      <td>0.002855</td>\n",
       "      <td>0.053434</td>\n",
       "      <td>0.026051</td>\n",
       "      <td>0.161302</td>\n",
       "      <td>0.927130</td>\n",
       "      <td>RNN</td>\n",
       "    </tr>\n",
       "    <tr>\n",
       "      <th>3</th>\n",
       "      <td>0.007353</td>\n",
       "      <td>0.085752</td>\n",
       "      <td>0.050360</td>\n",
       "      <td>0.398466</td>\n",
       "      <td>0.812328</td>\n",
       "      <td>TST</td>\n",
       "    </tr>\n",
       "    <tr>\n",
       "      <th>4</th>\n",
       "      <td>0.037450</td>\n",
       "      <td>0.193519</td>\n",
       "      <td>0.168392</td>\n",
       "      <td>0.840950</td>\n",
       "      <td>0.044209</td>\n",
       "      <td>Transformer</td>\n",
       "    </tr>\n",
       "  </tbody>\n",
       "</table>\n",
       "</div>"
      ],
      "text/plain": [
       "   calculate_MSE  calculate_RMSE  calculate_MAE  calculate_MAPE        r2  \\\n",
       "2       0.003213        0.056681       0.029107        0.165222  0.918004   \n",
       "1       0.004104        0.064062       0.040248        0.207194  0.895259   \n",
       "0       0.002855        0.053434       0.026051        0.161302  0.927130   \n",
       "3       0.007353        0.085752       0.050360        0.398466  0.812328   \n",
       "4       0.037450        0.193519       0.168392        0.840950  0.044209   \n",
       "\n",
       "         model  \n",
       "2          GRU  \n",
       "1         LSTM  \n",
       "0          RNN  \n",
       "3          TST  \n",
       "4  Transformer  "
      ]
     },
     "execution_count": 5,
     "metadata": {},
     "output_type": "execute_result"
    }
   ],
   "source": [
    "pca_data = pd.read_csv('etc/results/metrics/pca_metrics.csv', sep=';')\n",
    "pca_data = pca_data.sort_values(by=['model'])\n",
    "pca_data\n",
    "\n"
   ]
  },
  {
   "cell_type": "code",
   "execution_count": 16,
   "id": "055d039c",
   "metadata": {},
   "outputs": [
    {
     "name": "stdout",
     "output_type": "stream",
     "text": [
      "['GRU', 'LSTM', 'RNN', 'TST', 'Transformer']\n"
     ]
    },
    {
     "data": {
      "image/png": "[encoded data removed]",
      "text/plain": [
       "<Figure size 432x432 with 1 Axes>"
      ]
     },
     "metadata": {
      "needs_background": "light"
     },
     "output_type": "display_data"
    }
   ],
   "source": [
    "models_labels = all_data['model'].tolist()\n",
    "print(models_labels)\n",
    "\n",
    "MSE_Values = (all_data['calculate_MSE']* 1000).tolist() \n",
    "secundary_values = (pca_data['calculate_MSE']* 1000).tolist() \n",
    "\n",
    "PolarPlotMaker(labels=models_labels, values=MSE_Values, polar_color='#FF00E4', \n",
    "               primary_value_ref='All Dataset', secundary_value_ref='PCA Dataset',  \n",
    "               secundary_color='#00FF3E', polar_legend=r\"MSE Metrics  [x $10^{-3}$] \", secundary_values=secundary_values, filename = \"MSE_Metrics\")\n",
    "\n",
    "MAE_Values = (all_data['calculate_MAE']* 1000).tolist() \n",
    "secundary_values = (pca_data['calculate_MAE']* 1000).tolist() \n",
    "\n",
    "PolarPlotMaker(labels=models_labels, values=MSE_Values, polar_color='#FF00E4', \n",
    "               primary_value_ref='All Dataset', secundary_value_ref='PCA Dataset',  \n",
    "               secundary_color='#00FF3E', polar_legend=r\"MAE Metrics  [x $10^{-3}$] \", secundary_values=secundary_values, filename = \"MSE_Metrics\")\n"
   ]
  },
  {
   "cell_type": "code",
   "execution_count": 7,
   "id": "885cd144",
   "metadata": {},
   "outputs": [],
   "source": [
    "descaler = MinMaxScaler()\n",
    "descaler.min_, descaler.scale_ = default_scaler.min_[-1], default_scaler.scale_[-1]"
   ]
  },
  {
   "cell_type": "code",
   "execution_count": null,
   "id": "59b4216e",
   "metadata": {},
   "outputs": [],
   "source": [
    "descaled_sa_avg_ensemble_prediction = descale(descaler, sa_weight_avg)\n",
    "descaled_avg_ensemble_prediction = descale(descaler, ensemble_predictions)\n",
    "descaled_rnn_prediction = descale(descaler, complete_prediction_df[complete_prediction_df['model'] == 'RNN'].model_output)\n",
    "descaled_gru_prediction = descale(descaler, complete_prediction_df[complete_prediction_df['model'] == 'GRU'].model_output)\n",
    "descaled_lstm_prediction = descale(descaler, complete_prediction_df[complete_prediction_df['model'] == 'LSTM'].model_output)\n",
    "descaled_label = descale(descaler, labels)"
   ]
  },
  {
   "cell_type": "markdown",
   "id": "afc509a2",
   "metadata": {},
   "source": [
    "# Results"
   ]
  },
  {
   "cell_type": "code",
   "execution_count": null,
   "id": "e4fb493a",
   "metadata": {},
   "outputs": [],
   "source": [
    "calc_result_df"
   ]
  },
  {
   "cell_type": "code",
   "execution_count": null,
   "id": "10468d61",
   "metadata": {},
   "outputs": [],
   "source": [
    "calc_result_df"
   ]
  },
  {
   "cell_type": "markdown",
   "id": "0845a6e8",
   "metadata": {},
   "source": [
    "# Previsões comparadas ao SA-Ensemble"
   ]
  },
  {
   "cell_type": "code",
   "execution_count": null,
   "id": "178387f4",
   "metadata": {},
   "outputs": [],
   "source": [
    "plt.figure(figsize=(20, 10))\n",
    "plt.title(f'Relationship between prediction and real data for recorrent models', fontsize=15)\n",
    "plt.plot(descaled_label[:60], '^', ls='-',label='real')\n",
    "plt.plot(descaled_sa_avg_ensemble_prediction[:60], '.', ms = 10, ls = '-', c = '#B03A2E',label='SA-RecorrentEnsemble')\n",
    "plt.plot(descaled_rnn_prediction[:60], '.', ms = 10, ls = '-', c = '#7FFF00',label='RNN')\n",
    "plt.plot(descaled_gru_prediction[:60], '.', ms = 10, ls = '-', c = '#6C3483',label='GRU')\n",
    "plt.plot(descaled_lstm_prediction[:60], '.', ms = 10, ls = '-', c = '#00FFB2',label='LSTM')\n",
    "\n",
    "\n",
    "\n",
    "# plt.plot(output, 'm--', label='predictions')\n",
    "\n",
    "plt.xlabel('time [`min`]', fontsize=15)\n",
    "plt.ylabel('consumption [`kw`]', fontsize=15)\n",
    "plt.legend(fontsize=15)\n",
    "# plt.savefig(f'methodology/imgs/results/forecasting/others_models_forecasting.eps', dpi=600, bbox_inches='tight')\n",
    "# plt.savefig(f'methodology/imgs/results/forecasting/others_models_forecasting.svg', dpi=600, bbox_inches='tight')\n",
    "plt.show()"
   ]
  },
  {
   "cell_type": "markdown",
   "id": "ad6999e7",
   "metadata": {},
   "source": [
    "# Comparativos entre Ensembles"
   ]
  },
  {
   "cell_type": "code",
   "execution_count": null,
   "id": "7c355d21",
   "metadata": {},
   "outputs": [],
   "source": [
    "plt.figure(figsize=(20, 10))\n",
    "plt.title(f'Relationship between prediction and real data for recorrent models', fontsize=15)\n",
    "plt.plot(descaled_label[:60], '^', ls='-',label='real')\n",
    "plt.plot(descaled_sa_avg_ensemble_prediction[:60], '.', ms = 10, ls = '-', c = '#B03A2E',label='SA-RecorrentEnsemble')\n",
    "plt.plot(descaled_avg_ensemble_prediction[:60], '.', ms = 10, ls = '-', c = '#FF00E4',label='AVG RecorrentEnsemble - Prediction')\n",
    "plt.plot(descaled_rnn_prediction[:60], '.', ms = 10, ls = '-', c = '#7FFF00',label='RNN - Prediction')\n",
    "\n",
    "# plt.plot(output, 'm--', label='predictions')\n",
    "\n",
    "plt.xlabel('time [`min`]', fontsize=15)\n",
    "plt.ylabel('consumption [`kw`]', fontsize=15)\n",
    "plt.legend(fontsize=15)\n",
    "# plt.savefig(f'methodology/imgs/results/forecasting/others_models_forecasting.eps', dpi=600, bbox_inches='tight')\n",
    "# plt.savefig(f'methodology/imgs/results/forecasting/others_models_forecasting.svg', dpi=600, bbox_inches='tight')\n",
    "plt.show()"
   ]
  }
 ],
 "metadata": {
  "kernelspec": {
   "display_name": "Python 3 (ipykernel)",
   "language": "python",
   "name": "python3"
  },
  "language_info": {
   "codemirror_mode": {
    "name": "ipython",
    "version": 3
   },
   "file_extension": ".py",
   "mimetype": "text/x-python",
   "name": "python",
   "nbconvert_exporter": "python",
   "pygments_lexer": "ipython3",
   "version": "3.9.12"
  }
 },
 "nbformat": 4,
 "nbformat_minor": 5
}
