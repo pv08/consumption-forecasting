{
 "cells": [
  {
   "cell_type": "code",
   "execution_count": 2,
   "id": "c74b9dfb",
   "metadata": {},
   "outputs": [],
   "source": [
    "import pandas as pd\n",
    "import numpy as np\n",
    "import matplotlib.pyplot as plt\n"
   ]
  },
  {
   "cell_type": "code",
   "execution_count": null,
   "id": "a6669fdf",
   "metadata": {},
   "outputs": [],
   "source": [
    "pecan_path = 'etc/Pecanstreet/single-step/661/'\n",
    "hue_path = 'etc/HUE/single-step/1/'\n",
    "models = ['ConvRNN', 'FCN', 'GRU', 'LSTM', 'MLP', 'ResNet', 'RNN', 'SARIMAX', 'SVR', 'TCN', 'Transformer', 'TST', 'XGBoost']"
   ]
  },
  {
   "cell_type": "code",
   "execution_count": null,
   "id": "c898ed15",
   "metadata": {},
   "outputs": [],
   "source": [
    "pecan_dict = {\n",
    "    'all': {\n",
    "        '1hour': None,\n",
    "        '15min': None,\n",
    "        '1min': None\n",
    "    },\n",
    "    'PCA': {\n",
    "        '1hour': None,\n",
    "        '15min': None,\n",
    "        '1min': None\n",
    "    },\n",
    "    'SHAP':{\n",
    "        '1hour': None,\n",
    "        '15min': None,\n",
    "        '1min': None\n",
    "    }\n",
    "}\n",
    "hue_dict = {\n",
    "    'all': {\n",
    "        '1hour': None\n",
    "    },\n",
    "    'PCA': {\n",
    "        '1hour': None\n",
    "    },\n",
    "    'SHAP':{\n",
    "        '1hour': None\n",
    "    }\n",
    "}"
   ]
  },
  {
   "cell_type": "code",
   "execution_count": null,
   "id": "4b921070",
   "metadata": {},
   "outputs": [],
   "source": [
    "for types in pecan_dict.keys():\n",
    "    for resolution in pecan_dict[types].keys():\n",
    "        for model in models:\n",
    "            pecan_dict[types][resolution][model] = pd.read_csv(f'{pecan_path}/{resolution}/{types}/{model}/test_preds.csv')\n",
    "        break\n",
    "    bre"
   ]
  }
 ],
 "metadata": {
  "kernelspec": {
   "display_name": "Python 3 (ipykernel)",
   "language": "python",
   "name": "python3"
  },
  "language_info": {
   "codemirror_mode": {
    "name": "ipython",
    "version": 3
   },
   "file_extension": ".py",
   "mimetype": "text/x-python",
   "name": "python",
   "nbconvert_exporter": "python",
   "pygments_lexer": "ipython3",
   "version": "3.9.12"
  }
 },
 "nbformat": 4,
 "nbformat_minor": 5
}
