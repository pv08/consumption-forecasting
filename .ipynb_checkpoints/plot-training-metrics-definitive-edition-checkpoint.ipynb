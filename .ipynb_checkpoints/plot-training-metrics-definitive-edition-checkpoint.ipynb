{
 "cells": [
  {
   "cell_type": "code",
   "execution_count": 7,
   "id": "e017a5cc",
   "metadata": {},
   "outputs": [],
   "source": [
    "import pandas as pd\n",
    "import numpy as np\n",
    "import json\n",
    "import matplotlib.pyplot as plt\n",
    "from typing import List, Dict\n",
    "from src.utils.graphs import saveModelLosses"
   ]
  },
  {
   "cell_type": "code",
   "execution_count": 2,
   "id": "03db80e3",
   "metadata": {},
   "outputs": [],
   "source": [
    "def getMetricsByDatasetResolution(path: str, models: List[str], \n",
    "                                  group_epoch: bool = False, metric_type: str = 'validation') -> List[Dict]:\n",
    "    result = []\n",
    "    for model in models:\n",
    "        df = pd.read_csv(f'{path}/{model}/{metric_type}_metrics.csv', sep=';')\n",
    "        if 'val/loss_epoch' in df.columns.to_list():\n",
    "            df.rename(columns = {'val/loss_epoch':'val|MSE', \n",
    "                                 'val/val_mae':'val|MAE', \n",
    "                                 'val/val_mape':'val|MAPE'}, inplace = True)\n",
    "            df.drop(['val/val_mse', 'val/rmse'], axis=1, inplace=True)\n",
    "        if 'train/loss_epoch' in df.columns.to_list():\n",
    "            df.rename(columns = {'train/loss_epoch':'train|MSE'}, inplace = True)\n",
    "        df = df.loc[:, ~df.columns.str.contains('^Unnamed')]\n",
    "            \n",
    "        if group_epoch:\n",
    "            df = df.groupby('epoch').mean()\n",
    "        result.append({'model': model, 'data': json.loads(df.to_json(orient='records'))})\n",
    "    return result\n"
   ]
  },
  {
   "cell_type": "code",
   "execution_count": 3,
   "id": "27b433e2",
   "metadata": {},
   "outputs": [],
   "source": [
    "default_models = ['RNN', 'LSTM', 'GRU', 'TST', 'Transformer', 'FCN', 'ConvRNN', 'MLP', 'ResNet', 'TCN']\n",
    "d_types = ['all', 'PCA', 'SHAP']\n",
    "_pecan_hour_path = 'etc/log/Pecanstreet/single-step/661/1hour/'\n",
    "_pecan_fifteen_path = 'etc/log/Pecanstreet/single-step/661/15min/'\n",
    "_pecan_min_path = 'etc/log/Pecanstreet/single-step/661/1min/'\n",
    "\n",
    "_hue_hour_path = 'etc/log/HUE/single-step/1/1hour/'\n",
    "\n",
    "\n",
    "pecan_dict = {\n",
    "    'all': {\n",
    "        '1hour': None,\n",
    "        '15min': None,\n",
    "        '1min': None\n",
    "    },\n",
    "    'PCA': {\n",
    "        '1hour': None,\n",
    "        '15min': None,\n",
    "        '1min': None\n",
    "    },\n",
    "    'SHAP':{\n",
    "        '1hour': None,\n",
    "        '15min': None,\n",
    "        '1min': None\n",
    "    }\n",
    "}\n",
    "hue_dict = {\n",
    "    'all': {\n",
    "        '1hour': None\n",
    "    },\n",
    "    'PCA': {\n",
    "        '1hour': None\n",
    "    },\n",
    "    'SHAP':{\n",
    "        '1hour': None\n",
    "    }\n",
    "}"
   ]
  },
  {
   "cell_type": "code",
   "execution_count": 4,
   "id": "7f03f40a",
   "metadata": {},
   "outputs": [],
   "source": [
    "for types in d_types:\n",
    "    pecan_dict[types]['1hour'] = {\n",
    "        'validation': getMetricsByDatasetResolution(_pecan_hour_path + types, default_models),\n",
    "        'training': getMetricsByDatasetResolution(_pecan_hour_path + types, default_models, group_epoch=True, \n",
    "                                                  metric_type='training')\n",
    "    }\n",
    "    pecan_dict[types]['15min'] = {\n",
    "        'validation': getMetricsByDatasetResolution(_pecan_fifteen_path + types, default_models),\n",
    "        'training': getMetricsByDatasetResolution(_pecan_fifteen_path + types, default_models, group_epoch=True, \n",
    "                                                  metric_type='training')\n",
    "    }\n",
    "    pecan_dict[types]['1min'] = {\n",
    "        'validation': getMetricsByDatasetResolution(_pecan_min_path + types, default_models),\n",
    "        'training': getMetricsByDatasetResolution(_pecan_min_path + types, default_models, group_epoch=True, \n",
    "                                                  metric_type='training')\n",
    "    }\n",
    "    \n",
    "    hue_dict[types]['1hour'] = {\n",
    "        'validation': getMetricsByDatasetResolution(_hue_hour_path + types, default_models),\n",
    "        'training': getMetricsByDatasetResolution(_hue_hour_path + types, default_models, group_epoch=True, \n",
    "                                                  metric_type='training')\n",
    "    }\n",
    "    \n",
    "\n",
    "        "
   ]
  },
  {
   "cell_type": "code",
   "execution_count": 5,
   "id": "1bdd0f78",
   "metadata": {},
   "outputs": [
    {
     "data": {
      "text/plain": [
       "dict_keys(['all', 'PCA', 'SHAP'])"
      ]
     },
     "execution_count": 5,
     "metadata": {},
     "output_type": "execute_result"
    }
   ],
   "source": [
    "pecan_dict.keys()"
   ]
  },
  {
   "cell_type": "code",
   "execution_count": 6,
   "id": "e3810761",
   "metadata": {
    "scrolled": false
   },
   "outputs": [
    {
     "name": "stdout",
     "output_type": "stream",
     "text": [
      "dict_keys(['1hour', '15min', '1min'])\n"
     ]
    },
    {
     "ename": "AttributeError",
     "evalue": "'Line2D' object has no property 'logy'",
     "output_type": "error",
     "traceback": [
      "\u001b[0;31m---------------------------------------------------------------------------\u001b[0m",
      "\u001b[0;31mAttributeError\u001b[0m                            Traceback (most recent call last)",
      "Input \u001b[0;32mIn [6]\u001b[0m, in \u001b[0;36m<cell line: 1>\u001b[0;34m()\u001b[0m\n\u001b[1;32m      8\u001b[0m train_df \u001b[38;5;241m=\u001b[39m pd\u001b[38;5;241m.\u001b[39mDataFrame(pecan_dict[types][resolution][\u001b[38;5;124m'\u001b[39m\u001b[38;5;124mtraining\u001b[39m\u001b[38;5;124m'\u001b[39m][idx][\u001b[38;5;124m'\u001b[39m\u001b[38;5;124mdata\u001b[39m\u001b[38;5;124m'\u001b[39m])\n\u001b[1;32m      9\u001b[0m model_loss\u001b[38;5;241m.\u001b[39mappend((\u001b[38;5;124m'\u001b[39m\u001b[38;5;124mTraining\u001b[39m\u001b[38;5;124m'\u001b[39m, \u001b[38;5;124m'\u001b[39m\u001b[38;5;124m-\u001b[39m\u001b[38;5;124m'\u001b[39m, train_df[\u001b[38;5;124m'\u001b[39m\u001b[38;5;124mtrain|MSE\u001b[39m\u001b[38;5;124m'\u001b[39m]\u001b[38;5;241m.\u001b[39mvalues))\n\u001b[0;32m---> 10\u001b[0m \u001b[43msaveModelLosses\u001b[49m\u001b[43m(\u001b[49m\u001b[43mmodel_name\u001b[49m\u001b[38;5;241;43m=\u001b[39;49m\u001b[43mmodel\u001b[49m\u001b[43m,\u001b[49m\u001b[43m \u001b[49m\n\u001b[1;32m     11\u001b[0m \u001b[43m    \u001b[49m\u001b[43mlosses\u001b[49m\u001b[38;5;241;43m=\u001b[39;49m\u001b[43mmodel_loss\u001b[49m\u001b[43m,\u001b[49m\u001b[43m \u001b[49m\n\u001b[1;32m     12\u001b[0m \u001b[43m    \u001b[49m\u001b[43mtitle\u001b[49m\u001b[38;5;241;43m=\u001b[39;49m\u001b[38;5;124;43m'\u001b[39;49m\u001b[38;5;124;43mDataset losses comparison\u001b[39;49m\u001b[38;5;124;43m'\u001b[39;49m\u001b[43m,\u001b[49m\u001b[43m \u001b[49m\n\u001b[1;32m     13\u001b[0m \u001b[43m    \u001b[49m\u001b[43mpath\u001b[49m\u001b[38;5;241;43m=\u001b[39;49m\u001b[38;5;124;43mf\u001b[39;49m\u001b[38;5;124;43m'\u001b[39;49m\u001b[38;5;124;43metc/imgs/Pecanstreet/single-step/661/\u001b[39;49m\u001b[38;5;132;43;01m{\u001b[39;49;00m\u001b[43mresolution\u001b[49m\u001b[38;5;132;43;01m}\u001b[39;49;00m\u001b[38;5;124;43m/\u001b[39;49m\u001b[38;5;132;43;01m{\u001b[39;49;00m\u001b[43mtypes\u001b[49m\u001b[38;5;132;43;01m}\u001b[39;49;00m\u001b[38;5;124;43m/\u001b[39;49m\u001b[38;5;132;43;01m{\u001b[39;49;00m\u001b[43mmodel\u001b[49m\u001b[38;5;132;43;01m}\u001b[39;49;00m\u001b[38;5;124;43m/\u001b[39;49m\u001b[38;5;124;43m'\u001b[39;49m\u001b[43m,\u001b[49m\n\u001b[1;32m     14\u001b[0m \u001b[43m    \u001b[49m\u001b[43mfilename\u001b[49m\u001b[38;5;241;43m=\u001b[39;49m\u001b[38;5;124;43mf\u001b[39;49m\u001b[38;5;124;43m'\u001b[39;49m\u001b[38;5;124;43mloss_comparison_\u001b[39;49m\u001b[38;5;132;43;01m{\u001b[39;49;00m\u001b[43mmodel\u001b[49m\u001b[38;5;132;43;01m}\u001b[39;49;00m\u001b[38;5;124;43m'\u001b[39;49m\u001b[43m,\u001b[49m\u001b[43m \u001b[49m\u001b[43mlog_scale\u001b[49m\u001b[38;5;241;43m=\u001b[39;49m\u001b[38;5;28;43;01mTrue\u001b[39;49;00m\n\u001b[1;32m     15\u001b[0m \u001b[43m   \u001b[49m\u001b[43m)\u001b[49m\n\u001b[1;32m     16\u001b[0m plt\u001b[38;5;241m.\u001b[39mshow()\n\u001b[1;32m     17\u001b[0m \u001b[38;5;28;01mbreak\u001b[39;00m\n",
      "File \u001b[0;32m~/opt/Github/consumption-forecasting/src/utils/graphs.py:13\u001b[0m, in \u001b[0;36msaveModelLosses\u001b[0;34m(model_name, losses, title, path, filename, log_scale)\u001b[0m\n\u001b[1;32m     11\u001b[0m plt\u001b[38;5;241m.\u001b[39mtitle(\u001b[38;5;124mf\u001b[39m\u001b[38;5;124m\"\u001b[39m\u001b[38;5;124m[`\u001b[39m\u001b[38;5;132;01m{\u001b[39;00mmodel_name\u001b[38;5;132;01m}\u001b[39;00m\u001b[38;5;124m`] - \u001b[39m\u001b[38;5;132;01m{\u001b[39;00mtitle\u001b[38;5;132;01m}\u001b[39;00m\u001b[38;5;124m\"\u001b[39m)\n\u001b[1;32m     12\u001b[0m \u001b[38;5;28;01mfor\u001b[39;00m \u001b[38;5;28mtype\u001b[39m, marker, loss \u001b[38;5;129;01min\u001b[39;00m losses:\n\u001b[0;32m---> 13\u001b[0m     \u001b[43mplt\u001b[49m\u001b[38;5;241;43m.\u001b[39;49m\u001b[43mplot\u001b[49m\u001b[43m(\u001b[49m\u001b[43mloss\u001b[49m\u001b[43m,\u001b[49m\u001b[43m \u001b[49m\u001b[43mmarker\u001b[49m\u001b[43m,\u001b[49m\u001b[43m \u001b[49m\u001b[43mlabel\u001b[49m\u001b[38;5;241;43m=\u001b[39;49m\u001b[38;5;28;43mtype\u001b[39;49m\u001b[43m,\u001b[49m\u001b[43m \u001b[49m\u001b[43mlogy\u001b[49m\u001b[38;5;241;43m=\u001b[39;49m\u001b[43mlog_scale\u001b[49m\u001b[43m)\u001b[49m\n\u001b[1;32m     14\u001b[0m plt\u001b[38;5;241m.\u001b[39mylabel(\u001b[38;5;124m'\u001b[39m\u001b[38;5;124mLoss\u001b[39m\u001b[38;5;124m'\u001b[39m)\n\u001b[1;32m     15\u001b[0m plt\u001b[38;5;241m.\u001b[39mxlabel(\u001b[38;5;124m'\u001b[39m\u001b[38;5;124mEpochs\u001b[39m\u001b[38;5;124m'\u001b[39m)\n",
      "File \u001b[0;32m~/opt/anaconda3/envs/consumption-forecasting/lib/python3.9/site-packages/matplotlib/pyplot.py:2769\u001b[0m, in \u001b[0;36mplot\u001b[0;34m(scalex, scaley, data, *args, **kwargs)\u001b[0m\n\u001b[1;32m   2767\u001b[0m \u001b[38;5;129m@_copy_docstring_and_deprecators\u001b[39m(Axes\u001b[38;5;241m.\u001b[39mplot)\n\u001b[1;32m   2768\u001b[0m \u001b[38;5;28;01mdef\u001b[39;00m \u001b[38;5;21mplot\u001b[39m(\u001b[38;5;241m*\u001b[39margs, scalex\u001b[38;5;241m=\u001b[39m\u001b[38;5;28;01mTrue\u001b[39;00m, scaley\u001b[38;5;241m=\u001b[39m\u001b[38;5;28;01mTrue\u001b[39;00m, data\u001b[38;5;241m=\u001b[39m\u001b[38;5;28;01mNone\u001b[39;00m, \u001b[38;5;241m*\u001b[39m\u001b[38;5;241m*\u001b[39mkwargs):\n\u001b[0;32m-> 2769\u001b[0m     \u001b[38;5;28;01mreturn\u001b[39;00m \u001b[43mgca\u001b[49m\u001b[43m(\u001b[49m\u001b[43m)\u001b[49m\u001b[38;5;241;43m.\u001b[39;49m\u001b[43mplot\u001b[49m\u001b[43m(\u001b[49m\n\u001b[1;32m   2770\u001b[0m \u001b[43m        \u001b[49m\u001b[38;5;241;43m*\u001b[39;49m\u001b[43margs\u001b[49m\u001b[43m,\u001b[49m\u001b[43m \u001b[49m\u001b[43mscalex\u001b[49m\u001b[38;5;241;43m=\u001b[39;49m\u001b[43mscalex\u001b[49m\u001b[43m,\u001b[49m\u001b[43m \u001b[49m\u001b[43mscaley\u001b[49m\u001b[38;5;241;43m=\u001b[39;49m\u001b[43mscaley\u001b[49m\u001b[43m,\u001b[49m\n\u001b[1;32m   2771\u001b[0m \u001b[43m        \u001b[49m\u001b[38;5;241;43m*\u001b[39;49m\u001b[38;5;241;43m*\u001b[39;49m\u001b[43m(\u001b[49m\u001b[43m{\u001b[49m\u001b[38;5;124;43m\"\u001b[39;49m\u001b[38;5;124;43mdata\u001b[39;49m\u001b[38;5;124;43m\"\u001b[39;49m\u001b[43m:\u001b[49m\u001b[43m \u001b[49m\u001b[43mdata\u001b[49m\u001b[43m}\u001b[49m\u001b[43m \u001b[49m\u001b[38;5;28;43;01mif\u001b[39;49;00m\u001b[43m \u001b[49m\u001b[43mdata\u001b[49m\u001b[43m \u001b[49m\u001b[38;5;129;43;01mis\u001b[39;49;00m\u001b[43m \u001b[49m\u001b[38;5;129;43;01mnot\u001b[39;49;00m\u001b[43m \u001b[49m\u001b[38;5;28;43;01mNone\u001b[39;49;00m\u001b[43m \u001b[49m\u001b[38;5;28;43;01melse\u001b[39;49;00m\u001b[43m \u001b[49m\u001b[43m{\u001b[49m\u001b[43m}\u001b[49m\u001b[43m)\u001b[49m\u001b[43m,\u001b[49m\u001b[43m \u001b[49m\u001b[38;5;241;43m*\u001b[39;49m\u001b[38;5;241;43m*\u001b[39;49m\u001b[43mkwargs\u001b[49m\u001b[43m)\u001b[49m\n",
      "File \u001b[0;32m~/opt/anaconda3/envs/consumption-forecasting/lib/python3.9/site-packages/matplotlib/axes/_axes.py:1632\u001b[0m, in \u001b[0;36mAxes.plot\u001b[0;34m(self, scalex, scaley, data, *args, **kwargs)\u001b[0m\n\u001b[1;32m   1390\u001b[0m \u001b[38;5;124;03m\"\"\"\u001b[39;00m\n\u001b[1;32m   1391\u001b[0m \u001b[38;5;124;03mPlot y versus x as lines and/or markers.\u001b[39;00m\n\u001b[1;32m   1392\u001b[0m \n\u001b[0;32m   (...)\u001b[0m\n\u001b[1;32m   1629\u001b[0m \u001b[38;5;124;03m(``'green'``) or hex strings (``'#008000'``).\u001b[39;00m\n\u001b[1;32m   1630\u001b[0m \u001b[38;5;124;03m\"\"\"\u001b[39;00m\n\u001b[1;32m   1631\u001b[0m kwargs \u001b[38;5;241m=\u001b[39m cbook\u001b[38;5;241m.\u001b[39mnormalize_kwargs(kwargs, mlines\u001b[38;5;241m.\u001b[39mLine2D)\n\u001b[0;32m-> 1632\u001b[0m lines \u001b[38;5;241m=\u001b[39m [\u001b[38;5;241m*\u001b[39m\u001b[38;5;28mself\u001b[39m\u001b[38;5;241m.\u001b[39m_get_lines(\u001b[38;5;241m*\u001b[39margs, data\u001b[38;5;241m=\u001b[39mdata, \u001b[38;5;241m*\u001b[39m\u001b[38;5;241m*\u001b[39mkwargs)]\n\u001b[1;32m   1633\u001b[0m \u001b[38;5;28;01mfor\u001b[39;00m line \u001b[38;5;129;01min\u001b[39;00m lines:\n\u001b[1;32m   1634\u001b[0m     \u001b[38;5;28mself\u001b[39m\u001b[38;5;241m.\u001b[39madd_line(line)\n",
      "File \u001b[0;32m~/opt/anaconda3/envs/consumption-forecasting/lib/python3.9/site-packages/matplotlib/axes/_base.py:312\u001b[0m, in \u001b[0;36m_process_plot_var_args.__call__\u001b[0;34m(self, data, *args, **kwargs)\u001b[0m\n\u001b[1;32m    310\u001b[0m     this \u001b[38;5;241m+\u001b[39m\u001b[38;5;241m=\u001b[39m args[\u001b[38;5;241m0\u001b[39m],\n\u001b[1;32m    311\u001b[0m     args \u001b[38;5;241m=\u001b[39m args[\u001b[38;5;241m1\u001b[39m:]\n\u001b[0;32m--> 312\u001b[0m \u001b[38;5;28;01myield from\u001b[39;00m \u001b[38;5;28;43mself\u001b[39;49m\u001b[38;5;241;43m.\u001b[39;49m\u001b[43m_plot_args\u001b[49m\u001b[43m(\u001b[49m\u001b[43mthis\u001b[49m\u001b[43m,\u001b[49m\u001b[43m \u001b[49m\u001b[43mkwargs\u001b[49m\u001b[43m)\u001b[49m\n",
      "File \u001b[0;32m~/opt/anaconda3/envs/consumption-forecasting/lib/python3.9/site-packages/matplotlib/axes/_base.py:538\u001b[0m, in \u001b[0;36m_process_plot_var_args._plot_args\u001b[0;34m(self, tup, kwargs, return_kwargs)\u001b[0m\n\u001b[1;32m    536\u001b[0m     \u001b[38;5;28;01mreturn\u001b[39;00m \u001b[38;5;28mlist\u001b[39m(result)\n\u001b[1;32m    537\u001b[0m \u001b[38;5;28;01melse\u001b[39;00m:\n\u001b[0;32m--> 538\u001b[0m     \u001b[38;5;28;01mreturn\u001b[39;00m [l[\u001b[38;5;241m0\u001b[39m] \u001b[38;5;28;01mfor\u001b[39;00m l \u001b[38;5;129;01min\u001b[39;00m result]\n",
      "File \u001b[0;32m~/opt/anaconda3/envs/consumption-forecasting/lib/python3.9/site-packages/matplotlib/axes/_base.py:538\u001b[0m, in \u001b[0;36m<listcomp>\u001b[0;34m(.0)\u001b[0m\n\u001b[1;32m    536\u001b[0m     \u001b[38;5;28;01mreturn\u001b[39;00m \u001b[38;5;28mlist\u001b[39m(result)\n\u001b[1;32m    537\u001b[0m \u001b[38;5;28;01melse\u001b[39;00m:\n\u001b[0;32m--> 538\u001b[0m     \u001b[38;5;28;01mreturn\u001b[39;00m [l[\u001b[38;5;241m0\u001b[39m] \u001b[38;5;28;01mfor\u001b[39;00m l \u001b[38;5;129;01min\u001b[39;00m result]\n",
      "File \u001b[0;32m~/opt/anaconda3/envs/consumption-forecasting/lib/python3.9/site-packages/matplotlib/axes/_base.py:531\u001b[0m, in \u001b[0;36m<genexpr>\u001b[0;34m(.0)\u001b[0m\n\u001b[1;32m    528\u001b[0m \u001b[38;5;28;01melse\u001b[39;00m:\n\u001b[1;32m    529\u001b[0m     labels \u001b[38;5;241m=\u001b[39m [label] \u001b[38;5;241m*\u001b[39m n_datasets\n\u001b[0;32m--> 531\u001b[0m result \u001b[38;5;241m=\u001b[39m (\u001b[43mmake_artist\u001b[49m\u001b[43m(\u001b[49m\u001b[43mx\u001b[49m\u001b[43m[\u001b[49m\u001b[43m:\u001b[49m\u001b[43m,\u001b[49m\u001b[43m \u001b[49m\u001b[43mj\u001b[49m\u001b[43m \u001b[49m\u001b[38;5;241;43m%\u001b[39;49m\u001b[43m \u001b[49m\u001b[43mncx\u001b[49m\u001b[43m]\u001b[49m\u001b[43m,\u001b[49m\u001b[43m \u001b[49m\u001b[43my\u001b[49m\u001b[43m[\u001b[49m\u001b[43m:\u001b[49m\u001b[43m,\u001b[49m\u001b[43m \u001b[49m\u001b[43mj\u001b[49m\u001b[43m \u001b[49m\u001b[38;5;241;43m%\u001b[39;49m\u001b[43m \u001b[49m\u001b[43mncy\u001b[49m\u001b[43m]\u001b[49m\u001b[43m,\u001b[49m\u001b[43m \u001b[49m\u001b[43mkw\u001b[49m\u001b[43m,\u001b[49m\n\u001b[1;32m    532\u001b[0m \u001b[43m                      \u001b[49m\u001b[43m{\u001b[49m\u001b[38;5;241;43m*\u001b[39;49m\u001b[38;5;241;43m*\u001b[39;49m\u001b[43mkwargs\u001b[49m\u001b[43m,\u001b[49m\u001b[43m \u001b[49m\u001b[38;5;124;43m'\u001b[39;49m\u001b[38;5;124;43mlabel\u001b[39;49m\u001b[38;5;124;43m'\u001b[39;49m\u001b[43m:\u001b[49m\u001b[43m \u001b[49m\u001b[43mlabel\u001b[49m\u001b[43m}\u001b[49m\u001b[43m)\u001b[49m\n\u001b[1;32m    533\u001b[0m           \u001b[38;5;28;01mfor\u001b[39;00m j, label \u001b[38;5;129;01min\u001b[39;00m \u001b[38;5;28menumerate\u001b[39m(labels))\n\u001b[1;32m    535\u001b[0m \u001b[38;5;28;01mif\u001b[39;00m return_kwargs:\n\u001b[1;32m    536\u001b[0m     \u001b[38;5;28;01mreturn\u001b[39;00m \u001b[38;5;28mlist\u001b[39m(result)\n",
      "File \u001b[0;32m~/opt/anaconda3/envs/consumption-forecasting/lib/python3.9/site-packages/matplotlib/axes/_base.py:351\u001b[0m, in \u001b[0;36m_process_plot_var_args._makeline\u001b[0;34m(self, x, y, kw, kwargs)\u001b[0m\n\u001b[1;32m    349\u001b[0m default_dict \u001b[38;5;241m=\u001b[39m \u001b[38;5;28mself\u001b[39m\u001b[38;5;241m.\u001b[39m_getdefaults(\u001b[38;5;28mset\u001b[39m(), kw)\n\u001b[1;32m    350\u001b[0m \u001b[38;5;28mself\u001b[39m\u001b[38;5;241m.\u001b[39m_setdefaults(default_dict, kw)\n\u001b[0;32m--> 351\u001b[0m seg \u001b[38;5;241m=\u001b[39m \u001b[43mmlines\u001b[49m\u001b[38;5;241;43m.\u001b[39;49m\u001b[43mLine2D\u001b[49m\u001b[43m(\u001b[49m\u001b[43mx\u001b[49m\u001b[43m,\u001b[49m\u001b[43m \u001b[49m\u001b[43my\u001b[49m\u001b[43m,\u001b[49m\u001b[43m \u001b[49m\u001b[38;5;241;43m*\u001b[39;49m\u001b[38;5;241;43m*\u001b[39;49m\u001b[43mkw\u001b[49m\u001b[43m)\u001b[49m\n\u001b[1;32m    352\u001b[0m \u001b[38;5;28;01mreturn\u001b[39;00m seg, kw\n",
      "File \u001b[0;32m~/opt/anaconda3/envs/consumption-forecasting/lib/python3.9/site-packages/matplotlib/lines.py:393\u001b[0m, in \u001b[0;36mLine2D.__init__\u001b[0;34m(self, xdata, ydata, linewidth, linestyle, color, marker, markersize, markeredgewidth, markeredgecolor, markerfacecolor, markerfacecoloralt, fillstyle, antialiased, dash_capstyle, solid_capstyle, dash_joinstyle, solid_joinstyle, pickradius, drawstyle, markevery, **kwargs)\u001b[0m\n\u001b[1;32m    389\u001b[0m \u001b[38;5;28mself\u001b[39m\u001b[38;5;241m.\u001b[39mset_markeredgewidth(markeredgewidth)\n\u001b[1;32m    391\u001b[0m \u001b[38;5;66;03m# update kwargs before updating data to give the caller a\u001b[39;00m\n\u001b[1;32m    392\u001b[0m \u001b[38;5;66;03m# chance to init axes (and hence unit support)\u001b[39;00m\n\u001b[0;32m--> 393\u001b[0m \u001b[38;5;28;43mself\u001b[39;49m\u001b[38;5;241;43m.\u001b[39;49m\u001b[43mupdate\u001b[49m\u001b[43m(\u001b[49m\u001b[43mkwargs\u001b[49m\u001b[43m)\u001b[49m\n\u001b[1;32m    394\u001b[0m \u001b[38;5;28mself\u001b[39m\u001b[38;5;241m.\u001b[39mpickradius \u001b[38;5;241m=\u001b[39m pickradius\n\u001b[1;32m    395\u001b[0m \u001b[38;5;28mself\u001b[39m\u001b[38;5;241m.\u001b[39mind_offset \u001b[38;5;241m=\u001b[39m \u001b[38;5;241m0\u001b[39m\n",
      "File \u001b[0;32m~/opt/anaconda3/envs/consumption-forecasting/lib/python3.9/site-packages/matplotlib/artist.py:1064\u001b[0m, in \u001b[0;36mArtist.update\u001b[0;34m(self, props)\u001b[0m\n\u001b[1;32m   1062\u001b[0m             func \u001b[38;5;241m=\u001b[39m \u001b[38;5;28mgetattr\u001b[39m(\u001b[38;5;28mself\u001b[39m, \u001b[38;5;124mf\u001b[39m\u001b[38;5;124m\"\u001b[39m\u001b[38;5;124mset_\u001b[39m\u001b[38;5;132;01m{\u001b[39;00mk\u001b[38;5;132;01m}\u001b[39;00m\u001b[38;5;124m\"\u001b[39m, \u001b[38;5;28;01mNone\u001b[39;00m)\n\u001b[1;32m   1063\u001b[0m             \u001b[38;5;28;01mif\u001b[39;00m \u001b[38;5;129;01mnot\u001b[39;00m callable(func):\n\u001b[0;32m-> 1064\u001b[0m                 \u001b[38;5;28;01mraise\u001b[39;00m \u001b[38;5;167;01mAttributeError\u001b[39;00m(\u001b[38;5;124mf\u001b[39m\u001b[38;5;124m\"\u001b[39m\u001b[38;5;132;01m{\u001b[39;00m\u001b[38;5;28mtype\u001b[39m(\u001b[38;5;28mself\u001b[39m)\u001b[38;5;241m.\u001b[39m\u001b[38;5;18m__name__\u001b[39m\u001b[38;5;132;01m!r}\u001b[39;00m\u001b[38;5;124m object \u001b[39m\u001b[38;5;124m\"\u001b[39m\n\u001b[1;32m   1065\u001b[0m                                      \u001b[38;5;124mf\u001b[39m\u001b[38;5;124m\"\u001b[39m\u001b[38;5;124mhas no property \u001b[39m\u001b[38;5;132;01m{\u001b[39;00mk\u001b[38;5;132;01m!r}\u001b[39;00m\u001b[38;5;124m\"\u001b[39m)\n\u001b[1;32m   1066\u001b[0m             ret\u001b[38;5;241m.\u001b[39mappend(func(v))\n\u001b[1;32m   1067\u001b[0m \u001b[38;5;28;01mif\u001b[39;00m ret:\n",
      "\u001b[0;31mAttributeError\u001b[0m: 'Line2D' object has no property 'logy'"
     ]
    },
    {
     "data": {
      "image/png": "[encoded data removed]",
      "text/plain": [
       "<Figure size 640x480 with 1 Axes>"
      ]
     },
     "metadata": {},
     "output_type": "display_data"
    }
   ],
   "source": [
    "for types in pecan_dict.keys():\n",
    "    print(pecan_dict[types].keys())\n",
    "    for resolution in pecan_dict[types].keys():\n",
    "        for idx, model in zip(range(len(default_models)), default_models):\n",
    "            model_loss = []\n",
    "            val_df= pd.DataFrame(pecan_dict[types][resolution]['validation'][idx]['data'])\n",
    "            model_loss.append(('Validation', '-.', val_df['val|MSE'].values))\n",
    "            train_df = pd.DataFrame(pecan_dict[types][resolution]['training'][idx]['data'])\n",
    "            model_loss.append(('Training', '-', train_df['train|MSE'].values))\n",
    "            saveModelLosses(model_name=model, \n",
    "                losses=model_loss, \n",
    "                title='Dataset losses comparison', \n",
    "                path=f'etc/imgs/Pecanstreet/single-step/661/{resolution}/{types}/{model}/',\n",
    "                filename=f'loss_comparison_{model}'\n",
    "               )\n",
    "            plt.show()\n",
    "            break\n",
    "        break\n",
    "    break"
   ]
  },
  {
   "cell_type": "code",
   "execution_count": null,
   "id": "ea9e36ef",
   "metadata": {},
   "outputs": [],
   "source": [
    "pecan_dict['all']['1min']['validation'][1]['model']"
   ]
  },
  {
   "cell_type": "code",
   "execution_count": null,
   "id": "f4b4cfa4",
   "metadata": {},
   "outputs": [],
   "source": [
    "validation_pecan_hour_df = pd.DataFrame(validation_pecan_hour_df)\n",
    "validation_hue_hour_df = pd.DataFrame(validation_hue_hour_df)\n",
    "\n",
    "training_pecan_hour_df = pd.DataFrame(training_pecan_hour_df)\n",
    "training_hue_hour_df = pd.DataFrame(training_hue_hour_df)\n",
    "\n",
    "metrics_hue_hour_df = validation_hue_hour_df.copy()\n",
    "metrics_hue_hour_df['train|MSE'] = training_hue_hour_df['train|MSE']\n",
    "\n",
    "metrics_pecan_hour_df = validation_pecan_hour_df.copy()\n",
    "metrics_pecan_hour_df['train|MSE'] = training_pecan_hour_df['train|MSE']\n",
    "\n"
   ]
  },
  {
   "cell_type": "code",
   "execution_count": null,
   "id": "df5dd562",
   "metadata": {},
   "outputs": [],
   "source": [
    "list(metrics_pecan_hour_df.model.unique())"
   ]
  },
  {
   "cell_type": "code",
   "execution_count": null,
   "id": "d747a12e",
   "metadata": {},
   "outputs": [],
   "source": [
    "def saveValTrainLossesByModel(dataset: pd.DataFrame, dataset_name:str, path:str, resolution: str, filename:str, val_metric_name: str):\n",
    "    models = list(dataset.model.unique())\n",
    "    allModelLosses = []\n",
    "    for model in models:\n",
    "        modelloss = []\n",
    "        valloss = dataset.loc[dataset.model == model, f'val|{val_metric_name}'].values\n",
    "        modelloss.append(('Validation', '-.', valloss))\n",
    "        allModelLosses.append((model, '-', valloss))\n",
    "        trainloss = dataset.loc[dataset.model == model, f'train|{val_metric_name}'].values\n",
    "        modelloss.append(('Training', '-', trainloss))\n",
    "        saveModelLosses(model_name=model, \n",
    "                losses=modelloss, \n",
    "                title=f'Comparison of {dataset_name}-{resolution} losses', \n",
    "                path=f'{path}/{model}',\n",
    "                filename=f'loss_comparison_{model}'\n",
    "               )\n",
    "        plt.show()\n",
    "    return allModelLosses"
   ]
  },
  {
   "cell_type": "code",
   "execution_count": null,
   "id": "e6fc7746",
   "metadata": {},
   "outputs": [],
   "source": [
    "dataset = {\n",
    "    'HUE': metrics_hue_hour_df,\n",
    "    'Pecan Street': metrics_pecan_hour_df\n",
    "}\n"
   ]
  },
  {
   "cell_type": "code",
   "execution_count": null,
   "id": "984df935",
   "metadata": {},
   "outputs": [],
   "source": [
    "def saveValTrainModelLossByDataset(datasets: Dict[str, pd.DataFrame], metric_name: str, path: str, filename: str):\n",
    "    models = []\n",
    "    for setname in dataset.keys():\n",
    "        models += list(dataset[setname].model.unique())\n",
    "    models = list(dict.fromkeys(models))\n",
    "\n",
    "    for model in models:\n",
    "        modelloss = []\n",
    "        onlyloss = []\n",
    "        for setname in datasets.keys():\n",
    "            valloss = datasets[setname].loc[datasets[setname].model == model, f'val|{metric_name}'].values\n",
    "            modelloss.append((f'{setname} Validation', '-.' ,valloss))\n",
    "            onlyloss.append((f'{setname} Validation', '-' ,valloss))\n",
    "            trainloss = datasets[setname].loc[datasets[setname].model == model, f'train|{metric_name}'].values\n",
    "            modelloss.append((f'{setname} Training', '-' ,trainloss))\n",
    "        \n",
    "            \n",
    "        saveModelLosses(model_name=model, \n",
    "                losses=modelloss, \n",
    "                title='Dataset losses comparison', \n",
    "                path=path,\n",
    "                filename=f'{filename}_{model}'\n",
    "               )\n",
    "        plt.show()\n",
    "        saveModelLosses(model_name=model, \n",
    "                losses=onlyloss, \n",
    "                title='Dataset validation loss comparison', \n",
    "                path=path,\n",
    "                filename=f'{filename}_{model}_validation'\n",
    "               )\n",
    "        plt.show()"
   ]
  },
  {
   "cell_type": "code",
   "execution_count": null,
   "id": "d021896c",
   "metadata": {
    "scrolled": false
   },
   "outputs": [],
   "source": [
    "saveValTrainModelLossByDataset(datasets=dataset, metric_name='MSE', path='etc/imgs', filename='dataset_mse_relation')"
   ]
  },
  {
   "cell_type": "code",
   "execution_count": null,
   "id": "2a99fafc",
   "metadata": {},
   "outputs": [],
   "source": [
    "default_hue_path = 'etc/imgs/HUE/single-step/1/1hour'\n",
    "default_pecan_path = 'etc/imgs/Pecanstreet/single-step/661/1hour'"
   ]
  },
  {
   "cell_type": "code",
   "execution_count": null,
   "id": "6ac920fd",
   "metadata": {
    "scrolled": false
   },
   "outputs": [],
   "source": [
    "all_pecan_model_losses = saveValTrainLossesByModel(dataset=metrics_pecan_hour_df, \n",
    "                                             dataset_name='Pecan Street', \n",
    "                                            path=default_pecan_path,\n",
    "                                             resolution='1 hour',\n",
    "                                            filename='dataset_mse_relation',\n",
    "                                            val_metric_name='MSE')\n",
    "\n"
   ]
  },
  {
   "cell_type": "code",
   "execution_count": null,
   "id": "f6d7bc88",
   "metadata": {},
   "outputs": [],
   "source": [
    "saveModelLosses(model_name='Pecan Street Dataset', \n",
    "                losses=all_pecan_model_losses, \n",
    "                title='Comparison of Pecan Street Dataset validation losses in a hour resolution', \n",
    "                path=default_hue_path,\n",
    "                filename='dataset_mse_relation'\n",
    "               )\n",
    "\n"
   ]
  },
  {
   "cell_type": "code",
   "execution_count": null,
   "id": "ae9d95fe",
   "metadata": {
    "scrolled": false
   },
   "outputs": [],
   "source": [
    "all_model_losses = saveValTrainLossesByModel(dataset=metrics_hue_hour_df, \n",
    "                                             dataset_name='HUE', \n",
    "                                            path=default_hue_path,\n",
    "                                             resolution='1 hour',\n",
    "                                            filename='dataset_mse_relation',\n",
    "                                            val_metric_name='MSE')\n"
   ]
  },
  {
   "cell_type": "code",
   "execution_count": null,
   "id": "06745adb",
   "metadata": {},
   "outputs": [],
   "source": [
    "saveModelLosses(model_name='HUE Dataset', \n",
    "                losses=all_model_losses, \n",
    "                title='Comparison of HUE Dataset validation losses in a hour resolution', \n",
    "                path=default_hue_path,\n",
    "                filename='dataset_mse_relation'\n",
    "               )\n",
    "\n"
   ]
  },
  {
   "cell_type": "code",
   "execution_count": null,
   "id": "c58cbddb",
   "metadata": {},
   "outputs": [],
   "source": []
  }
 ],
 "metadata": {
  "kernelspec": {
   "display_name": "Python 3 (ipykernel)",
   "language": "python",
   "name": "python3"
  },
  "language_info": {
   "codemirror_mode": {
    "name": "ipython",
    "version": 3
   },
   "file_extension": ".py",
   "mimetype": "text/x-python",
   "name": "python",
   "nbconvert_exporter": "python",
   "pygments_lexer": "ipython3",
   "version": "3.9.12"
  }
 },
 "nbformat": 4,
 "nbformat_minor": 5
}
