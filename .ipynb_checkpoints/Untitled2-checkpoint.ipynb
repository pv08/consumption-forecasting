{
 "cells": [
  {
   "cell_type": "code",
   "execution_count": 1,
   "id": "1e868a23",
   "metadata": {},
   "outputs": [],
   "source": [
    "import torch as T\n",
    "import torch.nn as nn\n",
    "import torch.optim as optim\n",
    "from src.models.lstm import LSTMModel\n",
    "from src.models.gru import GRUModel\n",
    "from src.models.rnn import RNNModel\n",
    "from src.regressors.basic_regressor import BasicRegressor"
   ]
  },
  {
   "cell_type": "code",
   "execution_count": 2,
   "id": "173f1af0",
   "metadata": {},
   "outputs": [],
   "source": [
    "device = T.device('cuda:0' if T.cuda.is_available() else 'cpu')"
   ]
  },
  {
   "cell_type": "code",
   "execution_count": null,
   "id": "03e501ee",
   "metadata": {},
   "outputs": [],
   "source": [
    "class RecorrentEnsemble(nn.Module):\n",
    "    def __init__(self, rnn_model, lstm_model, gru_model):\n",
    "        super(RecorrentEnsemble, self).__init__()\n",
    "        self.rnn_model = rnn_model\n",
    "        self.lstm_model = lstm_model\n",
    "        self.gru_model = gru_model"
   ]
  }
 ],
 "metadata": {
  "kernelspec": {
   "display_name": "Python 3 (ipykernel)",
   "language": "python",
   "name": "python3"
  },
  "language_info": {
   "codemirror_mode": {
    "name": "ipython",
    "version": 3
   },
   "file_extension": ".py",
   "mimetype": "text/x-python",
   "name": "python",
   "nbconvert_exporter": "python",
   "pygments_lexer": "ipython3",
   "version": "3.9.12"
  }
 },
 "nbformat": 4,
 "nbformat_minor": 5
}
