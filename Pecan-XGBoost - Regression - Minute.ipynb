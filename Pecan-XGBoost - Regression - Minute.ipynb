{
 "cells": [
  {
   "cell_type": "code",
   "execution_count": null,
   "id": "3a3b372a",
   "metadata": {},
   "outputs": [],
   "source": [
    "import pandas as pd\n",
    "import numpy as np\n",
    "import datetime\n",
    "import matplotlib.pyplot as plt\n",
    "from sklearn.model_selection import train_test_split, cross_val_score, GridSearchCV\n",
    "from sklearn.metrics import mean_squared_error, mean_absolute_error, mean_absolute_percentage_error\n",
    "from sklearn.preprocessing import MinMaxScaler\n",
    "from xgboost import XGBRegressor\n",
    "from src.utils.functions import mkdir_if_not_exists, write_test_json"
   ]
  },
  {
   "cell_type": "code",
   "execution_count": null,
   "id": "7be064ea",
   "metadata": {},
   "outputs": [],
   "source": [
    "def descale(descaler, values):\n",
    "    values_2d = np.array(values)[:, np.newaxis]\n",
    "    return descaler.inverse_transform(values_2d).flatten()\n"
   ]
  },
  {
   "cell_type": "code",
   "execution_count": null,
   "id": "d8ae1d9d",
   "metadata": {},
   "outputs": [],
   "source": [
    "df = pd.read_csv('data/Pecanstreet/participants_data/1min/features/661_test_30_all_features.csv')\n",
    "df.tail()"
   ]
  },
  {
   "cell_type": "code",
   "execution_count": null,
   "id": "25beba07",
   "metadata": {},
   "outputs": [],
   "source": [
    "df.shape"
   ]
  },
  {
   "cell_type": "code",
   "execution_count": null,
   "id": "484c4aa6",
   "metadata": {},
   "outputs": [],
   "source": [
    "df.isnull().sum()"
   ]
  },
  {
   "cell_type": "code",
   "execution_count": null,
   "id": "463d84dc",
   "metadata": {},
   "outputs": [],
   "source": [
    "scaler = MinMaxScaler(feature_range=(-1, 1))\n",
    "scaler = scaler.fit(df)\n",
    "data = pd.DataFrame(scaler.transform(df), index=df.index, columns=df.columns)"
   ]
  },
  {
   "cell_type": "code",
   "execution_count": null,
   "id": "39dcf7e3",
   "metadata": {},
   "outputs": [],
   "source": [
    "scaler.min_[4]"
   ]
  },
  {
   "cell_type": "code",
   "execution_count": null,
   "id": "e207d530",
   "metadata": {},
   "outputs": [],
   "source": [
    "X = data.copy()\n",
    "X.drop('consumption', axis=1, inplace=True)\n",
    "X.head()"
   ]
  },
  {
   "cell_type": "code",
   "execution_count": null,
   "id": "cc647a10",
   "metadata": {},
   "outputs": [],
   "source": [
    "y = data.iloc[:, 4]\n",
    "y.describe().transpose()"
   ]
  },
  {
   "cell_type": "code",
   "execution_count": null,
   "id": "54443139",
   "metadata": {},
   "outputs": [],
   "source": [
    "n = len(X)\n",
    "X_train, y_train = X[:int(0.7*n)], y[:int(0.7*n)]\n",
    "X_test, y_test = X[int(0.7*n):], y[int(0.7*n):]"
   ]
  },
  {
   "cell_type": "code",
   "execution_count": null,
   "id": "59d9caa8",
   "metadata": {},
   "outputs": [],
   "source": [
    "print(X.shape, y.shape)\n",
    "print(X_train.shape, y_train.shape)\n",
    "print(X_test.shape, y_test.shape)"
   ]
  },
  {
   "cell_type": "code",
   "execution_count": null,
   "id": "82a0003e",
   "metadata": {},
   "outputs": [],
   "source": [
    "param_grid = {\n",
    "    'max_depth':[3,4,5],\n",
    "    'learning_rate': [0.1, .01, .05],\n",
    "    'gamma': [0, .25, 1],\n",
    "    'reg_lambda': [0, 1, 10],\n",
    "    'scale_pos_weight': [1, 3, 5]\n",
    "}\n",
    "second_param_grid = {\n",
    "    'max_depth':[4],\n",
    "    'learning_rate': [0.1, .5, 1],\n",
    "    'gamma': [.25],\n",
    "    'reg_lambda': [10, 20, 100],\n",
    "    'scale_pos_weight': [3]\n",
    "}\n",
    "\n",
    "\n",
    "optimal_params = GridSearchCV(estimator=XGBRegressor(seed=42,\n",
    "                                                          subsample=0.9,\n",
    "                                                          colsample_bytree=.5),\n",
    "                             param_grid=param_grid,\n",
    "                             scoring='neg_mean_squared_error',\n",
    "                             verbose=0,\n",
    "                             n_jobs=10,\n",
    "                             cv=10)\n",
    "\n",
    "optimal_params.fit(X_train, \n",
    "                   y_train, \n",
    "                    eval_set=[(X_test, y_test)],\n",
    "                  verbose=False)\n",
    "print(optimal_params.best_params_)\n"
   ]
  },
  {
   "cell_type": "code",
   "execution_count": null,
   "id": "49ad4499",
   "metadata": {},
   "outputs": [],
   "source": [
    "xg_regressor = XGBRegressor(seed=0, gamma=1, learning_rate=0.1, max_depth=3, reg_lambda=1, scale_pos_weight=1)"
   ]
  },
  {
   "cell_type": "code",
   "execution_count": null,
   "id": "209c8ab3",
   "metadata": {
    "scrolled": true
   },
   "outputs": [],
   "source": [
    "xg_regressor.fit(X_train, y_train)"
   ]
  },
  {
   "cell_type": "code",
   "execution_count": null,
   "id": "959b1465",
   "metadata": {},
   "outputs": [],
   "source": [
    "y_preds = xg_regressor.predict(X_test)"
   ]
  },
  {
   "cell_type": "code",
   "execution_count": null,
   "id": "5ed16963",
   "metadata": {},
   "outputs": [],
   "source": [
    "result = [{\n",
    "    'model': 'XGBoost',\n",
    "    'MSE': mean_squared_error(y_test, y_preds),\n",
    "    'MAE': mean_absolute_error(y_test, y_preds),\n",
    "    'MAPE': mean_absolute_percentage_error(y_test, y_preds)\n",
    "}]\n",
    "metrics = pd.DataFrame(result)\n",
    "metrics"
   ]
  },
  {
   "cell_type": "code",
   "execution_count": null,
   "id": "cd49ce61",
   "metadata": {},
   "outputs": [],
   "source": [
    "mkdir_if_not_exists('etc/results/Pecanstreet/single-step/661/15min/XGBoost')\n",
    "write_test_json(path='etc/results/Pecanstreet/single-step/661/15min/XGBoost', \n",
    "                result=result, model='XGBoost', task='test')\n",
    "mkdir_if_not_exists('etc/imgs/participants/Pecanstreet/single-step/661/15min/XGBoost')"
   ]
  },
  {
   "cell_type": "code",
   "execution_count": null,
   "id": "9f3cb104",
   "metadata": {},
   "outputs": [],
   "source": [
    "test_preds = []\n",
    "for preds, labels in zip(list(y_preds), y_test.to_list()):\n",
    "    test_preds.append(dict(\n",
    "        label=float(labels),\n",
    "        model_output=float(preds)))\n",
    "test_preds"
   ]
  },
  {
   "cell_type": "code",
   "execution_count": null,
   "id": "0c45bb6c",
   "metadata": {
    "scrolled": true
   },
   "outputs": [],
   "source": [
    "write_test_json(path='etc/results/Pecanstreet/single-step/661/15min/XGBoost', \n",
    "                result=test_preds, model='XGBoost', task='predict')\n"
   ]
  },
  {
   "cell_type": "code",
   "execution_count": null,
   "id": "eacde18b",
   "metadata": {},
   "outputs": [],
   "source": [
    "descaler = MinMaxScaler(feature_range=(-1,1))\n",
    "descaler.min_, descaler.scale_ = scaler.min_[4], scaler.scale_[4]\n",
    "descale_preds = descale(descaler, y_preds)\n",
    "descale_labels = descale(descaler, y_test)\n",
    "descale_labels"
   ]
  },
  {
   "cell_type": "code",
   "execution_count": null,
   "id": "0de24490",
   "metadata": {},
   "outputs": [],
   "source": []
  },
  {
   "cell_type": "code",
   "execution_count": null,
   "id": "4e042e8b",
   "metadata": {},
   "outputs": [],
   "source": [
    "plt.plot(descale_preds[:24])\n",
    "plt.plot(descale_labels[:24])"
   ]
  },
  {
   "cell_type": "code",
   "execution_count": null,
   "id": "2f0edc04",
   "metadata": {},
   "outputs": [],
   "source": [
    "plt.plot(range(0, df.consumption[int(n*0.7):].shape[0]), df.consumption[int(n*0.7):])\n",
    "plt.plot(descale_labels)"
   ]
  },
  {
   "cell_type": "code",
   "execution_count": null,
   "id": "57bf552c",
   "metadata": {},
   "outputs": [],
   "source": [
    "_lable"
   ]
  }
 ],
 "metadata": {
  "kernelspec": {
   "display_name": "Python 3 (ipykernel)",
   "language": "python",
   "name": "python3"
  },
  "language_info": {
   "codemirror_mode": {
    "name": "ipython",
    "version": 3
   },
   "file_extension": ".py",
   "mimetype": "text/x-python",
   "name": "python",
   "nbconvert_exporter": "python",
   "pygments_lexer": "ipython3",
   "version": "3.9.12"
  }
 },
 "nbformat": 4,
 "nbformat_minor": 5
}
