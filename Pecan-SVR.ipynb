{
 "cells": [
  {
   "cell_type": "code",
   "execution_count": 23,
   "id": "d87bbe64",
   "metadata": {},
   "outputs": [],
   "source": [
    "import pandas as pd\n",
    "import numpy as np\n",
    "import matplotlib.pyplot as plt\n",
    "import shap\n",
    "from sklearn.metrics import mean_squared_error, mean_absolute_error, mean_absolute_percentage_error\n",
    "from sklearn.linear_model import LinearRegression\n",
    "from sklearn.svm import SVR\n",
    "from scipy import stats\n",
    "from sklearn.preprocessing import MinMaxScaler\n",
    "from xgboost import XGBRegressor\n",
    "from src.utils.functions import mkdir_if_not_exists, write_test_json"
   ]
  },
  {
   "cell_type": "code",
   "execution_count": 22,
   "id": "e48c47f2",
   "metadata": {},
   "outputs": [
    {
     "ename": "NameError",
     "evalue": "name 'shap' is not defined",
     "output_type": "error",
     "traceback": [
      "\u001b[0;31m---------------------------------------------------------------------------\u001b[0m",
      "\u001b[0;31mNameError\u001b[0m                                 Traceback (most recent call last)",
      "Input \u001b[0;32mIn [22]\u001b[0m, in \u001b[0;36m<cell line: 1>\u001b[0;34m()\u001b[0m\n\u001b[0;32m----> 1\u001b[0m \u001b[43mshap\u001b[49m\u001b[38;5;241m.\u001b[39minit_js()\n",
      "\u001b[0;31mNameError\u001b[0m: name 'shap' is not defined"
     ]
    }
   ],
   "source": [
    "shap.init_js()"
   ]
  },
  {
   "cell_type": "code",
   "execution_count": 2,
   "id": "da732dbe",
   "metadata": {},
   "outputs": [],
   "source": [
    "def descale(descaler, values):\n",
    "    values_2d = np.array(values)[:, np.newaxis]\n",
    "    return descaler.inverse_transform(values_2d).flatten()\n"
   ]
  },
  {
   "cell_type": "code",
   "execution_count": 3,
   "id": "77f165cf",
   "metadata": {},
   "outputs": [],
   "source": [
    "df = pd.read_csv('data/Pecanstreet/participants_data/1hour/features/661_test_30_all_features.csv')\n",
    "scaler = MinMaxScaler(feature_range=(-1, 1))\n",
    "scaler = scaler.fit(df)\n",
    "data = pd.DataFrame(scaler.transform(df), index=df.index, columns=df.columns)"
   ]
  },
  {
   "cell_type": "code",
   "execution_count": 4,
   "id": "b1440327",
   "metadata": {},
   "outputs": [
    {
     "data": {
      "text/html": [
       "<div>\n",
       "<style scoped>\n",
       "    .dataframe tbody tr th:only-of-type {\n",
       "        vertical-align: middle;\n",
       "    }\n",
       "\n",
       "    .dataframe tbody tr th {\n",
       "        vertical-align: top;\n",
       "    }\n",
       "\n",
       "    .dataframe thead th {\n",
       "        text-align: right;\n",
       "    }\n",
       "</style>\n",
       "<table border=\"1\" class=\"dataframe\">\n",
       "  <thead>\n",
       "    <tr style=\"text-align: right;\">\n",
       "      <th></th>\n",
       "      <th>year</th>\n",
       "      <th>month</th>\n",
       "      <th>day</th>\n",
       "      <th>hour</th>\n",
       "      <th>generation</th>\n",
       "      <th>dayOfWeek</th>\n",
       "      <th>dayOfYear</th>\n",
       "      <th>maxtempC</th>\n",
       "      <th>mintempC</th>\n",
       "      <th>totalSnow_cm</th>\n",
       "      <th>...</th>\n",
       "      <th>cloudcover</th>\n",
       "      <th>humidity</th>\n",
       "      <th>precipMM</th>\n",
       "      <th>pressure</th>\n",
       "      <th>tempC</th>\n",
       "      <th>visibility</th>\n",
       "      <th>winddirDegree</th>\n",
       "      <th>windspeedKmph</th>\n",
       "      <th>prev_consumption</th>\n",
       "      <th>consumption_change</th>\n",
       "    </tr>\n",
       "  </thead>\n",
       "  <tbody>\n",
       "    <tr>\n",
       "      <th>0</th>\n",
       "      <td>-1.0</td>\n",
       "      <td>-1.0</td>\n",
       "      <td>-1.0</td>\n",
       "      <td>-1.0</td>\n",
       "      <td>-1.000000</td>\n",
       "      <td>-1.0</td>\n",
       "      <td>-1.0</td>\n",
       "      <td>-0.866667</td>\n",
       "      <td>-0.878788</td>\n",
       "      <td>-1.0</td>\n",
       "      <td>...</td>\n",
       "      <td>0.86</td>\n",
       "      <td>-0.242424</td>\n",
       "      <td>-1.0</td>\n",
       "      <td>0.72973</td>\n",
       "      <td>-0.828571</td>\n",
       "      <td>1.0</td>\n",
       "      <td>-0.955432</td>\n",
       "      <td>0.333333</td>\n",
       "      <td>-1.000000</td>\n",
       "      <td>-0.206805</td>\n",
       "    </tr>\n",
       "    <tr>\n",
       "      <th>1</th>\n",
       "      <td>-1.0</td>\n",
       "      <td>-1.0</td>\n",
       "      <td>-1.0</td>\n",
       "      <td>-1.0</td>\n",
       "      <td>-0.999957</td>\n",
       "      <td>-1.0</td>\n",
       "      <td>-1.0</td>\n",
       "      <td>-0.866667</td>\n",
       "      <td>-0.878788</td>\n",
       "      <td>-1.0</td>\n",
       "      <td>...</td>\n",
       "      <td>0.86</td>\n",
       "      <td>-0.242424</td>\n",
       "      <td>-1.0</td>\n",
       "      <td>0.72973</td>\n",
       "      <td>-0.828571</td>\n",
       "      <td>1.0</td>\n",
       "      <td>-0.955432</td>\n",
       "      <td>0.333333</td>\n",
       "      <td>-0.920815</td>\n",
       "      <td>-0.063264</td>\n",
       "    </tr>\n",
       "    <tr>\n",
       "      <th>2</th>\n",
       "      <td>-1.0</td>\n",
       "      <td>-1.0</td>\n",
       "      <td>-1.0</td>\n",
       "      <td>-1.0</td>\n",
       "      <td>-1.000000</td>\n",
       "      <td>-1.0</td>\n",
       "      <td>-1.0</td>\n",
       "      <td>-0.866667</td>\n",
       "      <td>-0.878788</td>\n",
       "      <td>-1.0</td>\n",
       "      <td>...</td>\n",
       "      <td>0.86</td>\n",
       "      <td>-0.242424</td>\n",
       "      <td>-1.0</td>\n",
       "      <td>0.72973</td>\n",
       "      <td>-0.828571</td>\n",
       "      <td>1.0</td>\n",
       "      <td>-0.955432</td>\n",
       "      <td>0.333333</td>\n",
       "      <td>-0.709946</td>\n",
       "      <td>-0.247899</td>\n",
       "    </tr>\n",
       "    <tr>\n",
       "      <th>3</th>\n",
       "      <td>-1.0</td>\n",
       "      <td>-1.0</td>\n",
       "      <td>-1.0</td>\n",
       "      <td>-1.0</td>\n",
       "      <td>-1.000000</td>\n",
       "      <td>-1.0</td>\n",
       "      <td>-1.0</td>\n",
       "      <td>-0.866667</td>\n",
       "      <td>-0.878788</td>\n",
       "      <td>-1.0</td>\n",
       "      <td>...</td>\n",
       "      <td>0.86</td>\n",
       "      <td>-0.242424</td>\n",
       "      <td>-1.0</td>\n",
       "      <td>0.72973</td>\n",
       "      <td>-0.828571</td>\n",
       "      <td>1.0</td>\n",
       "      <td>-0.955432</td>\n",
       "      <td>0.333333</td>\n",
       "      <td>-0.770316</td>\n",
       "      <td>-0.212324</td>\n",
       "    </tr>\n",
       "    <tr>\n",
       "      <th>4</th>\n",
       "      <td>-1.0</td>\n",
       "      <td>-1.0</td>\n",
       "      <td>-1.0</td>\n",
       "      <td>-1.0</td>\n",
       "      <td>-1.000000</td>\n",
       "      <td>-1.0</td>\n",
       "      <td>-1.0</td>\n",
       "      <td>-0.866667</td>\n",
       "      <td>-0.878788</td>\n",
       "      <td>-1.0</td>\n",
       "      <td>...</td>\n",
       "      <td>0.86</td>\n",
       "      <td>-0.242424</td>\n",
       "      <td>-1.0</td>\n",
       "      <td>0.72973</td>\n",
       "      <td>-0.828571</td>\n",
       "      <td>1.0</td>\n",
       "      <td>-0.955432</td>\n",
       "      <td>0.333333</td>\n",
       "      <td>-0.778424</td>\n",
       "      <td>-0.237987</td>\n",
       "    </tr>\n",
       "  </tbody>\n",
       "</table>\n",
       "<p>5 rows × 28 columns</p>\n",
       "</div>"
      ],
      "text/plain": [
       "   year  month  day  hour  generation  dayOfWeek  dayOfYear  maxtempC  \\\n",
       "0  -1.0   -1.0 -1.0  -1.0   -1.000000       -1.0       -1.0 -0.866667   \n",
       "1  -1.0   -1.0 -1.0  -1.0   -0.999957       -1.0       -1.0 -0.866667   \n",
       "2  -1.0   -1.0 -1.0  -1.0   -1.000000       -1.0       -1.0 -0.866667   \n",
       "3  -1.0   -1.0 -1.0  -1.0   -1.000000       -1.0       -1.0 -0.866667   \n",
       "4  -1.0   -1.0 -1.0  -1.0   -1.000000       -1.0       -1.0 -0.866667   \n",
       "\n",
       "   mintempC  totalSnow_cm  ...  cloudcover  humidity  precipMM  pressure  \\\n",
       "0 -0.878788          -1.0  ...        0.86 -0.242424      -1.0   0.72973   \n",
       "1 -0.878788          -1.0  ...        0.86 -0.242424      -1.0   0.72973   \n",
       "2 -0.878788          -1.0  ...        0.86 -0.242424      -1.0   0.72973   \n",
       "3 -0.878788          -1.0  ...        0.86 -0.242424      -1.0   0.72973   \n",
       "4 -0.878788          -1.0  ...        0.86 -0.242424      -1.0   0.72973   \n",
       "\n",
       "      tempC  visibility  winddirDegree  windspeedKmph  prev_consumption  \\\n",
       "0 -0.828571         1.0      -0.955432       0.333333         -1.000000   \n",
       "1 -0.828571         1.0      -0.955432       0.333333         -0.920815   \n",
       "2 -0.828571         1.0      -0.955432       0.333333         -0.709946   \n",
       "3 -0.828571         1.0      -0.955432       0.333333         -0.770316   \n",
       "4 -0.828571         1.0      -0.955432       0.333333         -0.778424   \n",
       "\n",
       "   consumption_change  \n",
       "0           -0.206805  \n",
       "1           -0.063264  \n",
       "2           -0.247899  \n",
       "3           -0.212324  \n",
       "4           -0.237987  \n",
       "\n",
       "[5 rows x 28 columns]"
      ]
     },
     "execution_count": 4,
     "metadata": {},
     "output_type": "execute_result"
    }
   ],
   "source": [
    "X = data.copy()\n",
    "X.drop('consumption', axis=1, inplace=True)\n",
    "X.head()"
   ]
  },
  {
   "cell_type": "code",
   "execution_count": 5,
   "id": "af99f680",
   "metadata": {},
   "outputs": [],
   "source": [
    "y = data.iloc[:, 4]"
   ]
  },
  {
   "cell_type": "code",
   "execution_count": 6,
   "id": "6f210450",
   "metadata": {},
   "outputs": [
    {
     "data": {
      "text/plain": [
       "0   -0.920815\n",
       "1   -0.709946\n",
       "2   -0.770316\n",
       "3   -0.778424\n",
       "4   -0.824232\n",
       "Name: consumption, dtype: float64"
      ]
     },
     "execution_count": 6,
     "metadata": {},
     "output_type": "execute_result"
    }
   ],
   "source": [
    "y.head()"
   ]
  },
  {
   "cell_type": "code",
   "execution_count": 7,
   "id": "82ce981b",
   "metadata": {},
   "outputs": [],
   "source": [
    "n = len(X)\n",
    "X_train, y_train = X[:int(0.7*n)], y[:int(0.7*n)]\n",
    "X_test, y_test = X[int(0.7*n):], y[int(0.7*n):]"
   ]
  },
  {
   "cell_type": "code",
   "execution_count": 8,
   "id": "d3ff390b",
   "metadata": {},
   "outputs": [
    {
     "name": "stdout",
     "output_type": "stream",
     "text": [
      "(8759, 28) (8759,)\n",
      "(6131, 28) (6131,)\n",
      "(2628, 28) (2628,)\n"
     ]
    }
   ],
   "source": [
    "print(X.shape, y.shape)\n",
    "print(X_train.shape, y_train.shape)\n",
    "print(X_test.shape, y_test.shape)"
   ]
  },
  {
   "cell_type": "code",
   "execution_count": null,
   "id": "af996e09",
   "metadata": {},
   "outputs": [],
   "source": [
    "C_arr = [0.1,10,100,1000]\n",
    "eps_arr = [1,0.1,0.00001]\n",
    "\n",
    "hyper_arr = []\n",
    "hyper_cols =  ['c','epsilon','correlation']\n",
    "for C in C_arr:\n",
    "    for epsilon in eps_arr:\n",
    "        model = SVR(kernel='rbf', C=C, epsilon=epsilon)\n",
    "        svr = model.fit(X_train, y_train)\n",
    "        y_pred = model.predict(X_test)\n",
    "        corr = stats.pearsonr(y_test,y_pred)[0]\n",
    "        hyper_arr.append([C,epsilon,corr])\n",
    "\n",
    "hyper_df = pd.DataFrame(hyper_arr,columns= hyper_cols)\n",
    "hyper_df = hyper_df.sort_values(by=['correlation'], ascending=False)\n",
    "hyper_df"
   ]
  },
  {
   "cell_type": "code",
   "execution_count": null,
   "id": "d8ccae58",
   "metadata": {},
   "outputs": [],
   "source": [
    "hyper_df[hyper_df.correlation == max(hyper_df.correlation.values)]"
   ]
  },
  {
   "cell_type": "code",
   "execution_count": 9,
   "id": "76fcc079",
   "metadata": {},
   "outputs": [
    {
     "data": {
      "text/plain": [
       "array([-0.77236763, -0.88645827, -0.89743918, ..., -0.74291704,\n",
       "       -0.68900314, -0.7154164 ])"
      ]
     },
     "execution_count": 9,
     "metadata": {},
     "output_type": "execute_result"
    }
   ],
   "source": [
    "y_test.values"
   ]
  },
  {
   "cell_type": "code",
   "execution_count": 10,
   "id": "c256faac",
   "metadata": {},
   "outputs": [],
   "source": [
    "model_svr = SVR(kernel='rbf', C=1000, epsilon=0.1) # set kernel and hyperparameters\n",
    "svr = model_svr.fit(X_train, y_train)\n",
    "result_df = pd.DataFrame([],columns=[])\n",
    "y_preds = model_svr.predict(X_test) # SVR\n"
   ]
  },
  {
   "cell_type": "code",
   "execution_count": 13,
   "id": "60af4020",
   "metadata": {},
   "outputs": [
    {
     "data": {
      "text/plain": [
       "array([-0.7714299 , -0.88675411, -0.90157615, ..., -0.57087324,\n",
       "       -0.5400683 , -0.55660325])"
      ]
     },
     "execution_count": 13,
     "metadata": {},
     "output_type": "execute_result"
    }
   ],
   "source": [
    "y_preds"
   ]
  },
  {
   "cell_type": "code",
   "execution_count": 15,
   "id": "f2e59241",
   "metadata": {},
   "outputs": [
    {
     "data": {
      "text/html": [
       "<div>\n",
       "<style scoped>\n",
       "    .dataframe tbody tr th:only-of-type {\n",
       "        vertical-align: middle;\n",
       "    }\n",
       "\n",
       "    .dataframe tbody tr th {\n",
       "        vertical-align: top;\n",
       "    }\n",
       "\n",
       "    .dataframe thead th {\n",
       "        text-align: right;\n",
       "    }\n",
       "</style>\n",
       "<table border=\"1\" class=\"dataframe\">\n",
       "  <thead>\n",
       "    <tr style=\"text-align: right;\">\n",
       "      <th></th>\n",
       "      <th>model</th>\n",
       "      <th>MSE</th>\n",
       "      <th>MAE</th>\n",
       "      <th>MAPE</th>\n",
       "    </tr>\n",
       "  </thead>\n",
       "  <tbody>\n",
       "    <tr>\n",
       "      <th>0</th>\n",
       "      <td>SVR</td>\n",
       "      <td>0.019995</td>\n",
       "      <td>0.120113</td>\n",
       "      <td>0.359591</td>\n",
       "    </tr>\n",
       "  </tbody>\n",
       "</table>\n",
       "</div>"
      ],
      "text/plain": [
       "  model       MSE       MAE      MAPE\n",
       "0   SVR  0.019995  0.120113  0.359591"
      ]
     },
     "execution_count": 15,
     "metadata": {},
     "output_type": "execute_result"
    }
   ],
   "source": [
    "data = [{\n",
    "    'model': 'SVR', \n",
    "    'MSE': mean_squared_error(y_test, y_preds),\n",
    "    'MAE': mean_absolute_error(y_test, y_preds),\n",
    "    'MAPE': mean_absolute_percentage_error(y_test, y_preds)\n",
    "}]\n",
    "metrics = pd.DataFrame(data)\n",
    "metrics"
   ]
  },
  {
   "cell_type": "code",
   "execution_count": 16,
   "id": "42a663f0",
   "metadata": {},
   "outputs": [
    {
     "name": "stdout",
     "output_type": "stream",
     "text": [
      "[!] - Test report of SVR model saved\n"
     ]
    }
   ],
   "source": [
    "mkdir_if_not_exists('etc/results/Pecanstreet/single-step/661/1hour/SVR')\n",
    "write_test_json(path='etc/results/Pecanstreet/single-step/661/1hour/SVR', \n",
    "                result=data, model='SVR', task='test')\n",
    "mkdir_if_not_exists('etc/imgs/participants/Pecanstreet/single-step/661/1hour/SVR')"
   ]
  },
  {
   "cell_type": "code",
   "execution_count": 19,
   "id": "5daea153",
   "metadata": {},
   "outputs": [
    {
     "name": "stdout",
     "output_type": "stream",
     "text": [
      "[!] - Predict report of SVR model saved\n"
     ]
    }
   ],
   "source": [
    "test_preds = []\n",
    "for preds, labels in zip(list(y_preds), y_test.to_list()):\n",
    "    test_preds.append(dict(\n",
    "        label=float(labels),\n",
    "        model_output=float(preds)))\n",
    "write_test_json(path='etc/results/Pecanstreet/single-step/661/1hour/SVR', \n",
    "                result=test_preds, model='SVR', task='predict')\n"
   ]
  },
  {
   "cell_type": "code",
   "execution_count": 20,
   "id": "b44e9089",
   "metadata": {},
   "outputs": [
    {
     "data": {
      "text/plain": [
       "array([ 87.086,  43.438,  39.237, ...,  98.353, 118.979, 108.874])"
      ]
     },
     "execution_count": 20,
     "metadata": {},
     "output_type": "execute_result"
    }
   ],
   "source": [
    "descaler = MinMaxScaler(feature_range=(-1,1))\n",
    "descaler.min_, descaler.scale_ = scaler.min_[4], scaler.scale_[4]\n",
    "descale_preds = descale(descaler, y_preds)\n",
    "descale_labels = descale(descaler, y_test)\n",
    "descale_labels"
   ]
  },
  {
   "cell_type": "code",
   "execution_count": 23,
   "id": "727d8f65",
   "metadata": {},
   "outputs": [
    {
     "data": {
      "text/plain": [
       "[<matplotlib.lines.Line2D at 0x7fe00b865160>]"
      ]
     },
     "execution_count": 23,
     "metadata": {},
     "output_type": "execute_result"
    },
    {
     "data": {
      "image/png": "[encoded data removed]",
      "text/plain": [
       "<Figure size 640x480 with 1 Axes>"
      ]
     },
     "metadata": {},
     "output_type": "display_data"
    }
   ],
   "source": [
    "plt.plot(descale_labels)\n",
    "plt.plot(descale_preds)"
   ]
  }
 ],
 "metadata": {
  "kernelspec": {
   "display_name": "Python 3 (ipykernel)",
   "language": "python",
   "name": "python3"
  },
  "language_info": {
   "codemirror_mode": {
    "name": "ipython",
    "version": 3
   },
   "file_extension": ".py",
   "mimetype": "text/x-python",
   "name": "python",
   "nbconvert_exporter": "python",
   "pygments_lexer": "ipython3",
   "version": "3.9.12"
  }
 },
 "nbformat": 4,
 "nbformat_minor": 5
}
