{
 "cells": [
  {
   "cell_type": "code",
   "execution_count": 1,
   "id": "283a549e",
   "metadata": {},
   "outputs": [],
   "source": [
    "import torch as T\n",
    "import shap\n",
    "from src.pecan_dataport.participant_preprocessing import PecanParticipantPreProcessing\n",
    "from src.regressors.gru_regression import ConsumptionGRURegressor\n",
    "from src.dataset import PecanDataset, PecanDataModule\n",
    "from torch.utils.data import DataLoader"
   ]
  },
  {
   "cell_type": "code",
   "execution_count": null,
   "id": "023ca6e0",
   "metadata": {
    "scrolled": true
   },
   "outputs": [
    {
     "name": "stdout",
     "output_type": "stream",
     "text": [
      "[!] - Trainable dataframe shape - (129086, 28)\n",
      "[*] Train dataframe shape: (90360, 28)\n",
      "[*] Validation dataframe shape: (25817, 28)\n",
      "[*] Test dataframe shape: (12909, 28)\n"
     ]
    },
    {
     "name": "stderr",
     "output_type": "stream",
     "text": [
      " 20%|██████████████▉                                                          | 18250/89332 [00:01<00:05, 13195.30it/s]"
     ]
    }
   ],
   "source": [
    "pecan_dataset = PecanParticipantPreProcessing('661_test_30_all', 'data/participants_data/1min/', 1028)\n",
    "device = T.device('cuda:0' if T.cuda.is_available() else 'cpu')"
   ]
  },
  {
   "cell_type": "code",
   "execution_count": null,
   "id": "a11faed6",
   "metadata": {},
   "outputs": [],
   "source": [
    "ckpt = 'lib/ckpts/participants/661_test_30_all/sigmoid/GRU/best/best-GRU-chpkt-pecanstreet-participant-id-661_test_30_all_epoch=080-val_loss=0.00000.ckpt'\n",
    "scaler = pecan_dataset.scaler"
   ]
  },
  {
   "cell_type": "code",
   "execution_count": null,
   "id": "95ea6c3e",
   "metadata": {},
   "outputs": [],
   "source": [
    "shap_train_sequence = PecanDataset(pecan_dataset.val_sequences, device)\n",
    "shap_test_sequence = PecanDataset(pecan_dataset.test_sequences, device)"
   ]
  },
  {
   "cell_type": "code",
   "execution_count": null,
   "id": "cd250abc",
   "metadata": {},
   "outputs": [],
   "source": [
    "shap_train_loader = DataLoader(\n",
    "            shap_train_sequence,\n",
    "            batch_size=32,\n",
    "            shuffle = False,\n",
    "            num_workers=0,\n",
    "            pin_memory=True)\n",
    "\n",
    "shap_test_loader = DataLoader(\n",
    "            shap_test_sequence,\n",
    "            batch_size=512,\n",
    "            shuffle = False,\n",
    "            num_workers=0,\n",
    "            pin_memory=True)"
   ]
  },
  {
   "cell_type": "code",
   "execution_count": null,
   "id": "1bc8a777",
   "metadata": {},
   "outputs": [],
   "source": [
    "shap_train_batch = next(iter(shap_train_loader))\n",
    "shap_test_batch = next(iter(shap_test_loader))"
   ]
  },
  {
   "cell_type": "code",
   "execution_count": null,
   "id": "ba07746e",
   "metadata": {},
   "outputs": [],
   "source": [
    "sequences = shap_train_batch[\"sequence\"]\n",
    "labels = shap_train_batch[\"label\"]\n",
    "background = sequences.to(device)\n",
    "background.shape"
   ]
  },
  {
   "cell_type": "code",
   "execution_count": null,
   "id": "08ffd2be",
   "metadata": {},
   "outputs": [],
   "source": [
    "model = ConsumptionGRURegressor.load_from_checkpoint(checkpoint_path=ckpt,\n",
    "                                                    scaler=scaler,\n",
    "                                                    device=device,\n",
    "                                                    n_features=pecan_dataset.get_n_features(),\n",
    "                                                    lr=1e-5,\n",
    "                                                    n_hidden=256,\n",
    "                                                    n_layers=3,\n",
    "                                                    dropout=0.2,\n",
    "                                                    activation_function='sigmoid')\n"
   ]
  },
  {
   "cell_type": "code",
   "execution_count": null,
   "id": "edb2520b",
   "metadata": {},
   "outputs": [],
   "source": [
    "gru_model = model.model"
   ]
  },
  {
   "cell_type": "code",
   "execution_count": null,
   "id": "3416bb89",
   "metadata": {},
   "outputs": [],
   "source": [
    "explainer = shap.DeepExplainer(gru_model, background)"
   ]
  },
  {
   "cell_type": "code",
   "execution_count": null,
   "id": "8d412286",
   "metadata": {},
   "outputs": [],
   "source": [
    "test_sequences = shap_test_batch[\"sequence\"]\n",
    "test_labels = shap_test_batch[\"label\"]\n",
    "shap_test = test_sequences.to(device)\n"
   ]
  },
  {
   "cell_type": "code",
   "execution_count": null,
   "id": "d6d82b89",
   "metadata": {},
   "outputs": [],
   "source": [
    "T.backends.cudnn.enabled = False\n",
    "shap_values = explainer.shap_values(shap_test)"
   ]
  },
  {
   "cell_type": "code",
   "execution_count": null,
   "id": "aaa232da",
   "metadata": {},
   "outputs": [],
   "source": [
    "shap.initjs()\n",
    "shap.force_plot(explainer.expected_value[0], shap_values[0][0], pecan_dataset.get_features_names())"
   ]
  },
  {
   "cell_type": "code",
   "execution_count": null,
   "id": "435c9f33",
   "metadata": {},
   "outputs": [],
   "source": [
    "shap_values.shape"
   ]
  },
  {
   "cell_type": "code",
   "execution_count": null,
   "id": "f1194a39",
   "metadata": {},
   "outputs": [],
   "source": [
    "shap_values[-1, :, :].shape"
   ]
  },
  {
   "cell_type": "code",
   "execution_count": null,
   "id": "12b37931",
   "metadata": {},
   "outputs": [],
   "source": [
    "import pandas as pd\n",
    "import numpy as np\n",
    "df = pd.DataFrame({\n",
    "    \"mean_abs_shap\": np.mean(np.abs(shap_values[-1, :, :]), axis=0), \n",
    "    \"stdev_abs_shap\": np.std(np.abs(shap_values[-1, :, :]), axis=0), \n",
    "    \"name\": pecan_dataset.get_features_names()\n",
    "})\n",
    "df.sort_values(\"mean_abs_shap\", ascending=False)[:10]"
   ]
  },
  {
   "cell_type": "code",
   "execution_count": null,
   "id": "59d02ba6",
   "metadata": {},
   "outputs": [],
   "source": [
    "shap_values[0,:, :]"
   ]
  },
  {
   "cell_type": "code",
   "execution_count": null,
   "id": "dfe8f17c",
   "metadata": {},
   "outputs": [],
   "source": [
    "import matplotlib.pyplot as plt\n",
    "shap.summary_plot(shap_values[0, :, :], features=test_sequences[0, :,:], feature_names=pecan_dataset.get_features_names())\n",
    "# plt.savefig(f'etc/imgs/features/Shap_values.svg', dpi=600, bbox_inches='tight')"
   ]
  },
  {
   "cell_type": "code",
   "execution_count": null,
   "id": "ecbb896a",
   "metadata": {},
   "outputs": [],
   "source": [
    "shap.waterfall_plot(shap_values[0, :, :])"
   ]
  },
  {
   "cell_type": "code",
   "execution_count": null,
   "id": "f0d9ba31",
   "metadata": {},
   "outputs": [],
   "source": []
  }
 ],
 "metadata": {
  "kernelspec": {
   "display_name": "Python 3 (ipykernel)",
   "language": "python",
   "name": "python3"
  },
  "language_info": {
   "codemirror_mode": {
    "name": "ipython",
    "version": 3
   },
   "file_extension": ".py",
   "mimetype": "text/x-python",
   "name": "python",
   "nbconvert_exporter": "python",
   "pygments_lexer": "ipython3",
   "version": "3.9.12"
  }
 },
 "nbformat": 4,
 "nbformat_minor": 5
}
