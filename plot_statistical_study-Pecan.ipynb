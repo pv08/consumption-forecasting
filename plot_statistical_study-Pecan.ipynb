{
 "cells": [
  {
   "cell_type": "code",
   "execution_count": 2,
   "id": "cc55694e",
   "metadata": {},
   "outputs": [],
   "source": [
    "import pandas as pd\n",
    "import numpy as np\n",
    "import matplotlib.pyplot as plt\n",
    "from statsmodels.tsa.stattools import adfuller"
   ]
  },
  {
   "cell_type": "code",
   "execution_count": 3,
   "id": "9630098c",
   "metadata": {},
   "outputs": [],
   "source": [
    "def dickey_fuller(dataset):\n",
    "    test = adfuller(dataset, autolag='AIC')\n",
    "    print(\"[!] - ADF:\", test[0])\n",
    "    print(\"[!] - p_value:\", test[1])\n",
    "    print(\"[*] - State of time-series: \", 'stationary' if test[1] < 0.05 else 'non-stationary')\n",
    "    print(\"[!] - Lags:\", test[2])"
   ]
  },
  {
   "cell_type": "code",
   "execution_count": 7,
   "id": "c0a359bb",
   "metadata": {},
   "outputs": [],
   "source": [
    "all_hour_df = pd.read_csv('data/Pecanstreet/participants_data/1hour/features/all/661_all_features.csv')\n",
    "pca_hour_df = pd.read_csv('data/Pecanstreet/participants_data/1hour/features/PCA/661_pca_features.csv')\n",
    "all_fif_df = pd.read_csv('data/Pecanstreet/participants_data/15min/features/all/661_all_features.csv')\n",
    "pca_fif_df = pd.read_csv('data/Pecanstreet/participants_data/15min/features/PCA/661_pca_features.csv')\n",
    "all_min_df = pd.read_csv('data/Pecanstreet/participants_data/1min/features/all/661_all_features.csv')\n",
    "pca_min_df = pd.read_csv('data/Pecanstreet/participants_data/1min/features/PCA/661_pca_features.csv')"
   ]
  },
  {
   "cell_type": "code",
   "execution_count": 16,
   "id": "b3ea25e4",
   "metadata": {},
   "outputs": [
    {
     "name": "stdout",
     "output_type": "stream",
     "text": [
      "******* all - 1hour ********\n",
      "[!] - ADF: -5.691918748387305\n",
      "[!] - p_value: 8.034651763995894e-07\n",
      "[*] - State of time-series:  stationary\n",
      "[!] - Lags: 31\n",
      "******* all - 15min ********\n",
      "[!] - ADF: -21.70445776790259\n",
      "[!] - p_value: 0.0\n",
      "[*] - State of time-series:  stationary\n",
      "[!] - Lags: 52\n",
      "******* all - 1min ********\n",
      "[!] - ADF: -19.19984916514365\n",
      "[!] - p_value: 0.0\n",
      "[*] - State of time-series:  stationary\n",
      "[!] - Lags: 71\n",
      "******* PCA - 1hour ********\n",
      "[!] - ADF: -5.691918748387303\n",
      "[!] - p_value: 8.034651763995966e-07\n",
      "[*] - State of time-series:  stationary\n",
      "[!] - Lags: 31\n",
      "******* PCA - 15min ********\n",
      "[!] - ADF: -21.70445776790262\n",
      "[!] - p_value: 0.0\n",
      "[*] - State of time-series:  stationary\n",
      "[!] - Lags: 52\n",
      "******* PCA - 1min ********\n",
      "[!] - ADF: -19.199849165143544\n",
      "[!] - p_value: 0.0\n",
      "[*] - State of time-series:  stationary\n",
      "[!] - Lags: 71\n"
     ]
    }
   ],
   "source": [
    "for types in ['all', 'PCA']:\n",
    "    for reso in ['1hour', '15min', '1min']:\n",
    "        print(f\"******* {types} - {reso} ********\", end='\\n')\n",
    "        df = pd.read_csv(f'data/Pecanstreet/participants_data/{reso}/features/{types}/661_{types.lower()}_features.csv')\n",
    "        dickey_fuller(df.consumption)\n"
   ]
  }
 ],
 "metadata": {
  "kernelspec": {
   "display_name": "Python 3 (ipykernel)",
   "language": "python",
   "name": "python3"
  },
  "language_info": {
   "codemirror_mode": {
    "name": "ipython",
    "version": 3
   },
   "file_extension": ".py",
   "mimetype": "text/x-python",
   "name": "python",
   "nbconvert_exporter": "python",
   "pygments_lexer": "ipython3",
   "version": "3.9.12"
  }
 },
 "nbformat": 4,
 "nbformat_minor": 5
}
