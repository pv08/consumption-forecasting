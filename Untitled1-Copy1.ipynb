{
 "cells": [
  {
   "cell_type": "code",
   "execution_count": 1,
   "id": "2f7d9760",
   "metadata": {},
   "outputs": [],
   "source": [
    "from typing import Optional, Union\n",
    "\n",
    "import torch.nn as nn\n",
    "import torch.nn.functional as F\n",
    "import numpy as np\n",
    "import torch"
   ]
  },
  {
   "cell_type": "code",
   "execution_count": 53,
   "id": "2361c9dc",
   "metadata": {},
   "outputs": [],
   "source": [
    "class LSTMModel(nn.Module):\n",
    "    def __init__(self, device, n_features, n_hidden = 128, n_layers = 3, dropout = 0.2, activation_function = 'relu',\n",
    "                 bidirectional = False):\n",
    "        super(LSTMModel, self).__init__()\n",
    "        self.n_hidden = n_hidden\n",
    "        self.activation_function = activation_function\n",
    "\n",
    "        self.lstm = nn.LSTM(\n",
    "            input_size=n_features,\n",
    "            hidden_size=n_hidden,\n",
    "            batch_first=True,\n",
    "            num_layers=n_layers,\n",
    "            dropout=dropout,\n",
    "            bidirectional=bidirectional\n",
    "        )\n",
    "\n",
    "        if bidirectional:\n",
    "            self.fc1 = nn.Linear(n_hidden * 2, n_hidden * 4)\n",
    "            self.regressor = nn.Linear(n_hidden * 4, 1)\n",
    "        else:\n",
    "            self.fc1 = nn.Linear(n_hidden, n_hidden * 2)\n",
    "            self.regressor = nn.Linear(n_hidden * 2, 1)\n",
    "\n",
    "        self.device = device\n",
    "\n",
    "        self.to(self.device)\n",
    "\n",
    "\n",
    "    def forward(self, x):\n",
    "#         self.lstm.flatten_parameters()\n",
    "\n",
    "        _, (hidden, _) = self.lstm(x)\n",
    "\n",
    "        out = hidden[-1]\n",
    "        print(out.shape, hidden.shape)\n",
    "        \n",
    "        if self.activation_function == 'relu':\n",
    "            layer1 = F.relu(self.fc1(out))\n",
    "        elif self.activation_function == 'sigmoid':\n",
    "            layer1 = T.sigmoid(self.fc1(out))\n",
    "\n",
    "        return self.regressor(layer1)\n",
    "\n"
   ]
  },
  {
   "cell_type": "code",
   "execution_count": 54,
   "id": "cecdb3dc",
   "metadata": {},
   "outputs": [
    {
     "name": "stdout",
     "output_type": "stream",
     "text": [
      "torch.Size([1, 60, 13])\n"
     ]
    }
   ],
   "source": [
    "device = torch.device('cuda:0' if torch.cuda.is_available() else 'cpu')\n",
    "x = torch.rand(1, 60, 13).to(device)\n",
    "print(x.shape)"
   ]
  },
  {
   "cell_type": "code",
   "execution_count": 55,
   "id": "6d65a09b",
   "metadata": {},
   "outputs": [],
   "source": [
    "net = LSTMModel(device, 13)"
   ]
  },
  {
   "cell_type": "code",
   "execution_count": 56,
   "id": "dab30ec6",
   "metadata": {},
   "outputs": [
    {
     "data": {
      "text/plain": [
       "LSTMModel(\n",
       "  (lstm): LSTM(13, 128, num_layers=3, batch_first=True, dropout=0.2)\n",
       "  (fc1): Linear(in_features=128, out_features=256, bias=True)\n",
       "  (regressor): Linear(in_features=256, out_features=1, bias=True)\n",
       ")"
      ]
     },
     "execution_count": 56,
     "metadata": {},
     "output_type": "execute_result"
    }
   ],
   "source": [
    "net"
   ]
  },
  {
   "cell_type": "code",
   "execution_count": 68,
   "id": "a29e4d04",
   "metadata": {},
   "outputs": [
    {
     "name": "stdout",
     "output_type": "stream",
     "text": [
      "torch.Size([1, 60, 13])\n",
      "torch.Size([1, 128]) torch.Size([3, 1, 128])\n",
      "tensor([[0.0137]], device='cuda:0', grad_fn=<AddmmBackward>)\n"
     ]
    }
   ],
   "source": [
    "print(x.shape)\n",
    "output = net(x)\n",
    "\n",
    "print(output)"
   ]
  },
  {
   "cell_type": "code",
   "execution_count": 67,
   "id": "d5d94e4d",
   "metadata": {},
   "outputs": [
    {
     "data": {
      "text/plain": [
       "torch.Size([3, 1, 128])"
      ]
     },
     "execution_count": 67,
     "metadata": {},
     "output_type": "execute_result"
    }
   ],
   "source": [
    "lstm = nn.LSTM(\n",
    "            input_size=13,\n",
    "            hidden_size=128,\n",
    "            batch_first=True,\n",
    "            num_layers=3,\n",
    "            dropout=0.2\n",
    "        )\n",
    "input = torch.randn(1, 60, 13)\n",
    "lstm.flatten_parameters()\n",
    "output, (hn, cn) = lstm(input)\n",
    "hn.shape"
   ]
  }
 ],
 "metadata": {
  "kernelspec": {
   "display_name": "Python 3",
   "language": "python",
   "name": "python3"
  },
  "language_info": {
   "codemirror_mode": {
    "name": "ipython",
    "version": 3
   },
   "file_extension": ".py",
   "mimetype": "text/x-python",
   "name": "python",
   "nbconvert_exporter": "python",
   "pygments_lexer": "ipython3",
   "version": "3.9.5"
  }
 },
 "nbformat": 4,
 "nbformat_minor": 5
}
