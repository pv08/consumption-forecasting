{
 "cells": [
  {
   "cell_type": "code",
   "execution_count": 1,
   "id": "283a549e",
   "metadata": {},
   "outputs": [],
   "source": [
    "import torch\n",
    "from src.pecan_dataport.participant_preprocessing import PecanParticipantPreProcessing\n",
    "from src.regressors.gru_regression import ConsumptionGRURegressor\n",
    "from src.models.gru import GRUModel\n",
    "from src.dataset import PecanDataset, PecanDataModule\n",
    "\n",
    "from captum.attr import IntegratedGradients\n",
    "from captum.attr import LayerConductance\n",
    "from captum.attr import NeuronConductance\n",
    "\n",
    "import matplotlib\n",
    "import matplotlib.pyplot as plt\n",
    "%matplotlib inline\n",
    "\n",
    "from scipy import stats\n",
    "import pandas as pd"
   ]
  },
  {
   "cell_type": "code",
   "execution_count": 2,
   "id": "023ca6e0",
   "metadata": {},
   "outputs": [
    {
     "name": "stdout",
     "output_type": "stream",
     "text": [
      "[!] - Trainable dataframe shape - (129086, 13)\n",
      "[*] Train dataframe shape: (90360, 13)\n",
      "[*] Validation dataframe shape: (25817, 13)\n",
      "[*] Test dataframe shape: (12909, 13)\n"
     ]
    },
    {
     "name": "stderr",
     "output_type": "stream",
     "text": [
      "100%|█████████████████████████████████████████████████████████████████████████| 90300/90300 [00:08<00:00, 10623.62it/s]\n",
      "100%|█████████████████████████████████████████████████████████████████████████| 12849/12849 [00:01<00:00, 11940.59it/s]\n",
      "100%|█████████████████████████████████████████████████████████████████████████| 25757/25757 [00:02<00:00, 10801.63it/s]"
     ]
    },
    {
     "name": "stdout",
     "output_type": "stream",
     "text": [
      "[!] Train sequence shape: (60, 13)\n",
      "[!] Test sequence shape: (60, 13)\n",
      "[!] Val sequence shape: (60, 13)\n",
      "[!] Len of train, val and test sequence: 90300 25757 12849\n"
     ]
    },
    {
     "name": "stderr",
     "output_type": "stream",
     "text": [
      "\n"
     ]
    }
   ],
   "source": [
    "pecan_dataset = PecanParticipantPreProcessing('661_test_13', 'data/participants_data/1min/',\n",
    "                                                   60)\n",
    "train_sequences, test_sequences, val_sequences = pecan_dataset.get_sequences()\n",
    "n_features = pecan_dataset.get_n_features()[1]\n",
    "\n",
    "scaler = pecan_dataset.get_scaler()\n",
    "ckpt = 'checkpoints/participants/661_test_13/sigmoid/GRU/best/best-GRU-chpkt-pecanstreet-participant-id-661_test_13_epoch=197-val_loss=0.00000.ckpt'\n",
    "device = torch.device('cuda:0' if torch.cuda.is_available() else 'cpu')"
   ]
  },
  {
   "cell_type": "code",
   "execution_count": 3,
   "id": "f3086e80",
   "metadata": {},
   "outputs": [
    {
     "data": {
      "text/plain": [
       "device(type='cuda', index=0)"
      ]
     },
     "execution_count": 3,
     "metadata": {},
     "output_type": "execute_result"
    }
   ],
   "source": [
    "device"
   ]
  },
  {
   "cell_type": "code",
   "execution_count": 4,
   "id": "cd250abc",
   "metadata": {},
   "outputs": [],
   "source": [
    "data_module = PecanDataModule(\n",
    "    device,\n",
    "    train_sequences,\n",
    "    test_sequences,\n",
    "    val_sequences,\n",
    "    32,\n",
    "    6\n",
    ")\n",
    "data_module.setup()\n"
   ]
  },
  {
   "cell_type": "code",
   "execution_count": 5,
   "id": "1bc8a777",
   "metadata": {},
   "outputs": [],
   "source": [
    "train_batch = next(iter(data_module.train_dataloader()))\n",
    "train_sequences = train_batch[\"sequence\"]\n",
    "train_labels = train_batch[\"label\"]\n"
   ]
  },
  {
   "cell_type": "code",
   "execution_count": 6,
   "id": "1c71df91",
   "metadata": {},
   "outputs": [],
   "source": [
    "import torch.nn as nn\n",
    "import torch as T\n",
    "class GRUModel(nn.Module):\n",
    "    def __init__(self, device, input_dim, hidden_dim, layer_dim, dropout_prob, activation_function):\n",
    "        super(GRUModel, self).__init__()\n",
    "\n",
    "        # Defining the number of layers and the nodes in each layer\n",
    "        self.layer_dim = layer_dim\n",
    "        self.hidden_dim = hidden_dim\n",
    "        self.activation_function = activation_function\n",
    "\n",
    "\n",
    "        # GRU layers\n",
    "        self.gru = nn.GRU(\n",
    "            input_dim, hidden_dim, layer_dim, batch_first=True, dropout=dropout_prob\n",
    "        )\n",
    "\n",
    "        # Fully connected layer\n",
    "        self.fc1 = nn.Linear(hidden_dim, hidden_dim * 2)\n",
    "        self.regressor = nn.Linear(hidden_dim * 2, 1)\n",
    "\n",
    "        self.device = device\n",
    "        self.to(self.device)\n",
    "\n",
    "\n",
    "    def forward(self, x):\n",
    "        self.gru.flatten_parameters()\n",
    "\n",
    "        _, hidden = self.gru(x)\n",
    "\n",
    "        out = hidden[-1]\n",
    "\n",
    "        if self.activation_function == 'relu':\n",
    "            layer1 = F.relu(self.fc1(out))\n",
    "        elif self.activation_function == 'sigmoid':\n",
    "            layer1 = T.sigmoid(self.fc1(out))\n",
    "\n",
    "        return self.regressor(layer1)\n"
   ]
  },
  {
   "cell_type": "code",
   "execution_count": 7,
   "id": "3fe3722a",
   "metadata": {},
   "outputs": [],
   "source": [
    "gru_model = GRUModel(device, n_features, 256, 3, 0.2, 'sigmoid').to(device)"
   ]
  },
  {
   "cell_type": "code",
   "execution_count": 8,
   "id": "85731545",
   "metadata": {},
   "outputs": [],
   "source": [
    "ig = IntegratedGradients(gru_model.to(device))"
   ]
  },
  {
   "cell_type": "code",
   "execution_count": 9,
   "id": "33b40358",
   "metadata": {},
   "outputs": [],
   "source": [
    "test_batch = next(iter(data_module.test_dataloader()))\n",
    "test_sequences = test_batch[\"sequence\"]\n",
    "test_labels = test_batch[\"label\"]\n"
   ]
  },
  {
   "cell_type": "code",
   "execution_count": 10,
   "id": "77b18ec2",
   "metadata": {},
   "outputs": [
    {
     "data": {
      "text/plain": [
       "(60, 13)"
      ]
     },
     "execution_count": 10,
     "metadata": {},
     "output_type": "execute_result"
    }
   ],
   "source": [
    "test_sequences.requires_grad_()\n",
    "attr, delta = ig.attribute(test_sequences.to(device),target=0, return_convergence_delta=True)\n",
    "attr = attr.detach().cpu().numpy()[-1,:,:]\n",
    "attr.shape"
   ]
  },
  {
   "cell_type": "code",
   "execution_count": 11,
   "id": "ebef4382",
   "metadata": {},
   "outputs": [
    {
     "name": "stdout",
     "output_type": "stream",
     "text": [
      "Average Feature Importances\n",
      "Unnamed: 0 :  -0.0000269299\n",
      "consumption :  -0.0000025122\n",
      "generation :  -0.0000078018\n",
      "time_hour :  0.0000132182\n",
      "time_minute :  -0.0000109606\n",
      "month :  0.0000050590\n",
      "day_of_week :  0.0000000000\n",
      "day :  0.0000142889\n",
      "week_of_year :  0.0000072858\n",
      "day_sin :  0.0000022994\n",
      "day_cos :  -0.0000176704\n",
      "year_sin :  -0.0000025530\n",
      "year_cos :  -0.0000229978\n"
     ]
    },
    {
     "data": {
      "image/png": "[encoded data removed]",
      "text/plain": [
       "<Figure size 864x432 with 1 Axes>"
      ]
     },
     "metadata": {
      "needs_background": "light"
     },
     "output_type": "display_data"
    }
   ],
   "source": [
    "import numpy as np\n",
    "def visualize_importances(feature_names, importances, title=\"Average Feature Importances\", plot=True, axis_title=\"Features\"):\n",
    "    print(title)\n",
    "    for i in range(len(feature_names)):\n",
    "        print(feature_names[i], \": \", '%.10f'%(importances[i]))\n",
    "    x_pos = (np.arange(len(feature_names)))\n",
    "    if plot:\n",
    "        plt.figure(figsize=(12,6))\n",
    "        plt.bar(x_pos, importances, align='center')\n",
    "        plt.xticks(x_pos, feature_names, wrap=True)\n",
    "        plt.xlabel(axis_title)\n",
    "        plt.title(title)\n",
    "visualize_importances(pecan_dataset.get_test_data().columns, np.mean(attr, axis=0))"
   ]
  }
 ],
 "metadata": {
  "kernelspec": {
   "display_name": "Python 3 (ipykernel)",
   "language": "python",
   "name": "python3"
  },
  "language_info": {
   "codemirror_mode": {
    "name": "ipython",
    "version": 3
   },
   "file_extension": ".py",
   "mimetype": "text/x-python",
   "name": "python",
   "nbconvert_exporter": "python",
   "pygments_lexer": "ipython3",
   "version": "3.8.12"
  }
 },
 "nbformat": 4,
 "nbformat_minor": 5
}
