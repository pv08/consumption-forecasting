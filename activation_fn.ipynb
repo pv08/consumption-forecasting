{
 "cells": [
  {
   "cell_type": "code",
   "execution_count": 24,
   "id": "84d3c598",
   "metadata": {},
   "outputs": [],
   "source": [
    "import torch\n",
    "import matplotlib.pyplot as plt\n",
    "import numpy as np\n",
    "import math\n",
    "from torch.nn.modules.activation import Module\n",
    "from torch import Tensor"
   ]
  },
  {
   "cell_type": "code",
   "execution_count": 2,
   "id": "85a1e6e0",
   "metadata": {},
   "outputs": [],
   "source": [
    "class BiHiperbolic(Module):\n",
    "    def forward(self, input: Tensor) -> Tensor:\n",
    "        return bi_hiperbolic(input, 1,2,180)\n",
    "    "
   ]
  },
  {
   "cell_type": "code",
   "execution_count": 4,
   "id": "cc907140",
   "metadata": {},
   "outputs": [],
   "source": [
    "def bi_hiperbolic(x, t1, t2, alpha):\n",
    "    derived_lambd = 1/2 * math.tanh(alpha)\n",
    "    tal1 = math.sqrt(1/16 + t2**2)\n",
    "    tal2 = math.sqrt(1/16 + t2**2)\n",
    "    \n",
    "    lamb1 = 4 * derived_lambd * tal1\n",
    "    lamb2 = 4 * derived_lambd * tal2\n",
    "    \n",
    "    return np.sqrt( (lamb1 ** 2) * ((x + (1/4*lamb1)) ** 2)  + (tal1 ** 2)) - \\\n",
    "            np.sqrt( (lamb2 ** 2) * ((x - (1/4*lamb2)) ** 2)  + (tal2 ** 2)) + 0.5"
   ]
  },
  {
   "cell_type": "code",
   "execution_count": 36,
   "id": "09022c8e",
   "metadata": {},
   "outputs": [
    {
     "data": {
      "text/plain": [
       "array([-4.00000000e+00, -3.90000000e+00, -3.80000000e+00, -3.70000000e+00,\n",
       "       -3.60000000e+00, -3.50000000e+00, -3.40000000e+00, -3.30000000e+00,\n",
       "       -3.20000000e+00, -3.10000000e+00, -3.00000000e+00, -2.90000000e+00,\n",
       "       -2.80000000e+00, -2.70000000e+00, -2.60000000e+00, -2.50000000e+00,\n",
       "       -2.40000000e+00, -2.30000000e+00, -2.20000000e+00, -2.10000000e+00,\n",
       "       -2.00000000e+00, -1.90000000e+00, -1.80000000e+00, -1.70000000e+00,\n",
       "       -1.60000000e+00, -1.50000000e+00, -1.40000000e+00, -1.30000000e+00,\n",
       "       -1.20000000e+00, -1.10000000e+00, -1.00000000e+00, -9.00000000e-01,\n",
       "       -8.00000000e-01, -7.00000000e-01, -6.00000000e-01, -5.00000000e-01,\n",
       "       -4.00000000e-01, -3.00000000e-01, -2.00000000e-01, -1.00000000e-01,\n",
       "        3.55271368e-15,  1.00000000e-01,  2.00000000e-01,  3.00000000e-01,\n",
       "        4.00000000e-01,  5.00000000e-01,  6.00000000e-01,  7.00000000e-01,\n",
       "        8.00000000e-01,  9.00000000e-01,  1.00000000e+00,  1.10000000e+00,\n",
       "        1.20000000e+00,  1.30000000e+00,  1.40000000e+00,  1.50000000e+00,\n",
       "        1.60000000e+00,  1.70000000e+00,  1.80000000e+00,  1.90000000e+00,\n",
       "        2.00000000e+00,  2.10000000e+00,  2.20000000e+00,  2.30000000e+00,\n",
       "        2.40000000e+00,  2.50000000e+00,  2.60000000e+00,  2.70000000e+00,\n",
       "        2.80000000e+00,  2.90000000e+00,  3.00000000e+00,  3.10000000e+00,\n",
       "        3.20000000e+00,  3.30000000e+00,  3.40000000e+00,  3.50000000e+00,\n",
       "        3.60000000e+00,  3.70000000e+00,  3.80000000e+00,  3.90000000e+00,\n",
       "        4.00000000e+00])"
      ]
     },
     "execution_count": 36,
     "metadata": {},
     "output_type": "execute_result"
    }
   ],
   "source": [
    "x = np.arange(start=-4, stop=4.1, step=0.1)\n",
    "x"
   ]
  },
  {
   "cell_type": "code",
   "execution_count": 41,
   "id": "fc2ccbfb",
   "metadata": {},
   "outputs": [
    {
     "data": {
      "text/plain": [
       "array([-1.60832107, -1.60745076, -1.60651043, -1.60549233, -1.60438766,\n",
       "       -1.6031863 , -1.6018766 , -1.60044514, -1.59887632, -1.59715198,\n",
       "       -1.59525083, -1.59314783, -1.59081335, -1.58821211, -1.58530185,\n",
       "       -1.58203161, -1.57833951, -1.57414982, -1.56936907, -1.5638809 ,\n",
       "       -1.55753907, -1.55015783, -1.54149868, -1.53125172, -1.51900918,\n",
       "       -1.50422744, -1.48617192, -1.46383684, -1.43582878, -1.40020109,\n",
       "       -1.35423086, -1.29415615, -1.21497037, -1.11053627, -0.97446682,\n",
       "       -0.80203923, -0.59241635, -0.34948969, -0.080617  ,  0.2054633 ,\n",
       "        0.5       ,  0.7945367 ,  1.080617  ,  1.34948969,  1.59241635,\n",
       "        1.80203923,  1.97446682,  2.11053627,  2.21497037,  2.29415615,\n",
       "        2.35423086,  2.40020109,  2.43582878,  2.46383684,  2.48617192,\n",
       "        2.50422744,  2.51900918,  2.53125172,  2.54149868,  2.55015783,\n",
       "        2.55753907,  2.5638809 ,  2.56936907,  2.57414982,  2.57833951,\n",
       "        2.58203161,  2.58530185,  2.58821211,  2.59081335,  2.59314783,\n",
       "        2.59525083,  2.59715198,  2.59887632,  2.60044514,  2.6018766 ,\n",
       "        2.6031863 ,  2.60438766,  2.60549233,  2.60651043,  2.60745076,\n",
       "        2.60832107])"
      ]
     },
     "execution_count": 41,
     "metadata": {},
     "output_type": "execute_result"
    }
   ],
   "source": [
    "out = bi_hiperbolic(x, 2, 1, 90)\n",
    "out"
   ]
  },
  {
   "cell_type": "code",
   "execution_count": 42,
   "id": "85b3d71c",
   "metadata": {},
   "outputs": [
    {
     "data": {
      "text/plain": [
       "[<matplotlib.lines.Line2D at 0x19270a0eca0>]"
      ]
     },
     "execution_count": 42,
     "metadata": {},
     "output_type": "execute_result"
    },
    {
     "data": {
      "image/png": "[encoded data removed]",
      "text/plain": [
       "<Figure size 432x288 with 1 Axes>"
      ]
     },
     "metadata": {
      "needs_background": "light"
     },
     "output_type": "display_data"
    }
   ],
   "source": [
    "plt.plot(x, out)"
   ]
  },
  {
   "cell_type": "code",
   "execution_count": 5,
   "id": "4613d8bf",
   "metadata": {},
   "outputs": [],
   "source": [
    "m = BiHiperbolic()\n"
   ]
  },
  {
   "cell_type": "code",
   "execution_count": 10,
   "id": "b1aa6f6d",
   "metadata": {},
   "outputs": [
    {
     "data": {
      "text/plain": [
       "torch.Size([32, 60, 13])"
      ]
     },
     "execution_count": 10,
     "metadata": {},
     "output_type": "execute_result"
    }
   ],
   "source": [
    "input = torch.randn(32, 60, 13)\n",
    "input.shape"
   ]
  },
  {
   "cell_type": "code",
   "execution_count": 11,
   "id": "80310e78",
   "metadata": {},
   "outputs": [],
   "source": [
    "output = m(input)"
   ]
  },
  {
   "cell_type": "code",
   "execution_count": 12,
   "id": "8cae0e09",
   "metadata": {},
   "outputs": [
    {
     "data": {
      "text/plain": [
       "tensor([[[-7.1285, -6.8393,  3.2700,  ..., -0.0375, -5.7106,  0.7293],\n",
       "         [-2.1732, -5.1392, -3.4845,  ..., -0.7053,  5.0790, -1.1945],\n",
       "         [ 2.2142,  7.9133,  2.9464,  ..., -7.4145,  2.6067, -5.7631],\n",
       "         ...,\n",
       "         [ 8.1313,  8.0889,  5.3387,  ..., -5.2250, -4.8150,  0.5911],\n",
       "         [-4.7122,  3.9867,  6.1173,  ..., -5.3176,  2.0124,  7.7900],\n",
       "         [ 1.0233, -0.7781,  4.8451,  ..., -3.9041,  2.3354,  7.0323]],\n",
       "\n",
       "        [[-0.1910, -5.7293,  1.6029,  ..., -7.4311, -7.0386,  6.7469],\n",
       "         [-7.4110,  7.1535, -7.2728,  ...,  7.7997, -5.8576,  1.2917],\n",
       "         [-6.9892, -6.0069,  4.7170,  ..., -6.7461,  6.6840,  2.8226],\n",
       "         ...,\n",
       "         [ 7.8105,  4.0882,  1.2261,  ..., -5.6904,  7.4919, -6.5851],\n",
       "         [-7.3695, -6.2423, -3.1919,  ...,  1.7621,  6.0616,  1.7207],\n",
       "         [ 7.0923, -7.2194,  7.8597,  ...,  5.5858, -0.5186, -4.5218]],\n",
       "\n",
       "        [[ 3.6339,  3.4489,  0.7287,  ...,  8.1868, -6.8639,  3.9586],\n",
       "         [ 5.3146,  1.6853,  8.5317,  ...,  7.1826,  0.1303,  1.9279],\n",
       "         [ 1.5525, -6.2633,  2.5972,  ..., -6.2306,  8.2393,  7.7568],\n",
       "         ...,\n",
       "         [ 4.2682, -2.5166, -0.2388,  ..., -4.4640,  0.8448,  0.2448],\n",
       "         [ 2.2143, -1.9758, -3.3777,  ...,  8.2955, -7.0953,  5.6679],\n",
       "         [ 2.2605, -1.9252, -6.7569,  ...,  4.8521, -7.2028,  4.6341]],\n",
       "\n",
       "        ...,\n",
       "\n",
       "        [[ 3.2504,  2.7598, -0.7652,  ...,  8.2766, -7.1068,  8.2303],\n",
       "         [ 7.2123,  4.6944,  5.6601,  ...,  8.2692,  0.7934, -3.5959],\n",
       "         [-6.0222,  1.2072, -4.1726,  ..., -3.3276,  7.7059,  4.9408],\n",
       "         ...,\n",
       "         [-5.6528, -1.7726,  2.0316,  ...,  1.8520,  8.0919,  7.1781],\n",
       "         [-6.1910, -7.1106,  6.3711,  ...,  8.3226, -3.3427,  6.8098],\n",
       "         [ 5.0131,  7.7482, -6.5204,  ..., -3.4674,  2.0626,  0.9364]],\n",
       "\n",
       "        [[-0.2198,  3.6814, -5.0554,  ...,  1.0862, -1.1727,  2.5305],\n",
       "         [-4.3829,  1.2184,  6.4549,  ..., -6.5300, -6.4916,  5.6941],\n",
       "         [-6.0311,  7.8889, -6.2087,  ..., -0.1624, -5.4629,  1.2885],\n",
       "         ...,\n",
       "         [-5.6103,  6.9380,  4.9925,  ...,  2.9212,  6.0465,  7.9282],\n",
       "         [-5.9348,  7.4298, -7.2712,  ..., -2.4105,  6.8665,  6.9818],\n",
       "         [-4.6194, -4.8310, -1.2678,  ..., -6.8905,  8.1102, -6.6633]],\n",
       "\n",
       "        [[ 3.9021,  5.6236,  6.5165,  ...,  8.0984,  8.2441, -6.7658],\n",
       "         [ 5.1777, -4.9608, -5.0663,  ...,  8.3014,  3.4772,  0.7582],\n",
       "         [-0.3561, -1.2888,  1.2799,  ...,  3.7123,  7.7456, -2.0276],\n",
       "         ...,\n",
       "         [-7.3393, -6.6814,  4.1309,  ...,  6.4150,  3.4965,  5.1691],\n",
       "         [ 8.1099,  7.5476, -4.7815,  ...,  5.0772,  2.3375,  4.9047],\n",
       "         [-7.4728, -4.0834, -3.6394,  ...,  8.1005, -6.5491, -5.4655]]])"
      ]
     },
     "execution_count": 12,
     "metadata": {},
     "output_type": "execute_result"
    }
   ],
   "source": [
    "output"
   ]
  }
 ],
 "metadata": {
  "kernelspec": {
   "display_name": "Python 3",
   "language": "python",
   "name": "python3"
  },
  "language_info": {
   "codemirror_mode": {
    "name": "ipython",
    "version": 3
   },
   "file_extension": ".py",
   "mimetype": "text/x-python",
   "name": "python",
   "nbconvert_exporter": "python",
   "pygments_lexer": "ipython3",
   "version": "3.9.5"
  }
 },
 "nbformat": 4,
 "nbformat_minor": 5
}