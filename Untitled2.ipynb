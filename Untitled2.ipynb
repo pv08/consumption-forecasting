{
 "cells": [
  {
   "cell_type": "code",
   "execution_count": 1,
   "id": "c1730f36",
   "metadata": {},
   "outputs": [],
   "source": [
    "import torch as T\n",
    "import torch.nn as nn\n",
    "import torch.nn.functional as F\n",
    "import torch.optim as optim\n",
    "\n",
    "from src.models.lstm import LSTMModel\n",
    "from src.models.gru import GRUModel\n",
    "from src.models.rnn import RNNModel\n",
    "from src.regressors.basic_regressor import BasicRegressor\n",
    "from src.dataset import PecanDataset, PecanDataModule\n",
    "\n",
    "from src.models.lstm import LSTMModel\n",
    "from src.models.gru import GRUModel\n",
    "from src.models.rnn import RNNModel\n",
    "\n",
    "from src.regressors.lstm_regressor import ConsumptionLSTMRegressor\n",
    "from src.regressors.gru_regression import ConsumptionGRURegressor\n",
    "from src.regressors.rnn_regressor import ConsumptionRNNRegressor\n",
    "\n",
    "from src.pecan_dataport.participant_preprocessing import PecanParticipantPreProcessing\n",
    "\n",
    "import pytorch_lightning as pl\n"
   ]
  },
  {
   "cell_type": "code",
   "execution_count": 2,
   "id": "cc1630c5",
   "metadata": {},
   "outputs": [
    {
     "data": {
      "text/plain": [
       "device(type='cuda', index=0)"
      ]
     },
     "execution_count": 2,
     "metadata": {},
     "output_type": "execute_result"
    }
   ],
   "source": [
    "device = T.device('cuda:0' if T.cuda.is_available() else 'cpu')\n",
    "device"
   ]
  },
  {
   "cell_type": "code",
   "execution_count": 3,
   "id": "ba1cd865",
   "metadata": {},
   "outputs": [
    {
     "name": "stdout",
     "output_type": "stream",
     "text": [
      "torch.Size([32, 60, 28]) cuda:0\n",
      "torch.Size([32, 1]) cuda:0\n"
     ]
    }
   ],
   "source": [
    "\n",
    "x_test = T.randn(32, 60, 28).to(device)\n",
    "y_test = T.randn(32,1).to(device)\n",
    "print(x_test.shape, x_test.device)\n",
    "print(y_test.shape, y_test.device)"
   ]
  },
  {
   "cell_type": "code",
   "execution_count": 4,
   "id": "63a65e2e",
   "metadata": {},
   "outputs": [
    {
     "name": "stdout",
     "output_type": "stream",
     "text": [
      "[!] - Trainable dataframe shape - (129086, 28)\n",
      "[*] Train dataframe shape: (90360, 28)\n",
      "[*] Validation dataframe shape: (25817, 28)\n",
      "[*] Test dataframe shape: (12909, 28)\n"
     ]
    },
    {
     "name": "stderr",
     "output_type": "stream",
     "text": [
      "100%|█████████████████████████████████████████████████████████████████████████| 90300/90300 [00:07<00:00, 12779.15it/s]\n",
      "100%|█████████████████████████████████████████████████████████████████████████| 12849/12849 [00:01<00:00, 11472.30it/s]\n",
      "100%|█████████████████████████████████████████████████████████████████████████| 25757/25757 [00:01<00:00, 14388.95it/s]"
     ]
    },
    {
     "name": "stdout",
     "output_type": "stream",
     "text": [
      "[!] Train sequence shape: (60, 28)\n",
      "[!] Test sequence shape: (60, 28)\n",
      "[!] Val sequence shape: (60, 28)\n",
      "[!] Len of train, val and test sequence: 90300 25757 12849\n"
     ]
    },
    {
     "name": "stderr",
     "output_type": "stream",
     "text": [
      "\n"
     ]
    }
   ],
   "source": [
    "pecan_dataset = PecanParticipantPreProcessing('661_test_30_all', 'data/participants_data/1min/', 60)\n",
    "n_features = pecan_dataset.get_n_features()\n",
    "features_names = pecan_dataset.get_features_names()\n",
    "scaler = pecan_dataset.get_scaler()\n",
    "train_sequences, test_sequences, val_sequences = pecan_dataset.get_sequences()\n",
    "data_module = PecanDataModule(\n",
    "    device=device,\n",
    "    train_sequences=train_sequences,\n",
    "    test_sequences=test_sequences,\n",
    "    val_sequences=val_sequences,\n",
    "    batch_size=16,\n",
    "    num_workers=0,\n",
    "    pin_memory=True\n",
    ")\n",
    "data_module.setup()\n"
   ]
  },
  {
   "cell_type": "code",
   "execution_count": 5,
   "id": "059fc0eb",
   "metadata": {},
   "outputs": [],
   "source": [
    "lstm_ckpt = f'lib/ckpts/participants/661_test_30_all/sigmoid/LSTM/best/best-LSTM-chpkt-pecanstreet-participant-id-661_test_30_all_epoch=018-val_loss=0.00000.ckpt'\n",
    "rnn_ckpt = f'lib/ckpts/participants/661_test_30_all/sigmoid/RNN/best/best-RNN-chpkt-pecanstreet-participant-id-661_test_30_all_epoch=173-val_loss=0.00000.ckpt'\n",
    "gru_ckpt = f'lib/ckpts/participants/661_test_30_all/sigmoid/GRU/best/best-GRU-chpkt-pecanstreet-participant-id-661_test_30_all_epoch=080-val_loss=0.00000.ckpt'"
   ]
  },
  {
   "cell_type": "code",
   "execution_count": 6,
   "id": "98e84efa",
   "metadata": {},
   "outputs": [
    {
     "name": "stderr",
     "output_type": "stream",
     "text": [
      "Metric `SpearmanCorrcoef` will save all targets and predictions in the buffer. For large datasets, this may lead to large memory footprint.\n"
     ]
    }
   ],
   "source": [
    "lstm_regressor = ConsumptionLSTMRegressor.load_from_checkpoint(checkpoint_path=lstm_ckpt,\n",
    "                                                                strict=False,\n",
    "                                                                device=device,\n",
    "                                                                n_features=n_features,\n",
    "                                                                lr=1e-5,\n",
    "                                                                n_hidden=256,\n",
    "                                                                n_layers=3,\n",
    "                                                                dropout=0.2,\n",
    "                                                                activation_function='sigmoid',\n",
    "                                                                bidirectional=False, scaler=scaler)\n",
    "rnn_regressor = ConsumptionRNNRegressor.load_from_checkpoint(checkpoint_path=rnn_ckpt,\n",
    "                                                             scaler=scaler,\n",
    "                                                             device=device,\n",
    "                                                             n_features=n_features,\n",
    "                                                             lr=1e-5,\n",
    "                                                             n_hidden=256,\n",
    "                                                             n_layers=3,\n",
    "                                                             dropout=0.3,\n",
    "                                                             activation_function='sigmoid')\n",
    "\n",
    "gru_regressor = ConsumptionGRURegressor.load_from_checkpoint(checkpoint_path=gru_ckpt,\n",
    "                                                            scaler=scaler,\n",
    "                                                            device=device,\n",
    "                                                            n_features=n_features,\n",
    "                                                            lr=1e-5,\n",
    "                                                            n_hidden=256,\n",
    "                                                            n_layers=3,\n",
    "                                                            dropout=0.2,\n",
    "                                                            activation_function='sigmoid')"
   ]
  },
  {
   "cell_type": "code",
   "execution_count": 7,
   "id": "da48e8e6",
   "metadata": {},
   "outputs": [],
   "source": [
    "class RecorrentEnsemble(nn.Module):\n",
    "    def __init__(self, rnn_model, lstm_model, gru_model, weights_pond):\n",
    "        super(RecorrentEnsemble, self).__init__()\n",
    "        self.rnn_model = rnn_model\n",
    "        self.rnn_w = 1\n",
    "        self.lstm_model = lstm_model\n",
    "        self.lstm_w = 1\n",
    "        self.gru_model = gru_model\n",
    "        self.gru_w = 1\n",
    "        self.weights_pond = weights_pond\n",
    "        self.regressor = nn.Linear(3,1)\n",
    "        \n",
    "        self.to(device)\n",
    "    \n",
    "    def update_weights(self, rnn, lstm, gru, label):\n",
    "        self.rnn_w = label/rnn\n",
    "        self.lstm_w = label/lstm\n",
    "        self.gru_w = label/gru\n",
    "        \n",
    "        \n",
    "    def forward(self, x, label):\n",
    "        x1 = self.rnn_model(x)\n",
    "        x2 = self.lstm_model(x)\n",
    "        x3 = self.gru_model(x)\n",
    "        out = T.cat((x1, x2, x3), dim=1)\n",
    "        \n",
    "        \n",
    "        return self.regressor(out)"
   ]
  },
  {
   "cell_type": "code",
   "execution_count": 8,
   "id": "baee6c66",
   "metadata": {},
   "outputs": [],
   "source": [
    "class RecorrentEnsembleRegressor(BasicRegressor):\n",
    "    def __init__(self, lstm_model, rnn_model, gru_model):\n",
    "        super().__init__(None)\n",
    "        \n",
    "        self.ensemble = RecorrentEnsemble(rnn_model, lstm_model, gru_model, False)\n",
    "        \n",
    "        self.criterion = nn.MSELoss()\n",
    "\n",
    "    def forward(self, x, labels = None):\n",
    "        output = self.ensemble(x, labels)\n",
    "        loss = 0\n",
    "        if labels is not None:\n",
    "             loss = self.criterion(output, labels.unsqueeze(dim = 1))\n",
    "        return loss, output\n",
    "\n",
    "    def configure_optimizers(self):\n",
    "        return optim.AdamW(self.parameters(), lr = 0.2)\n",
    "        "
   ]
  },
  {
   "cell_type": "code",
   "execution_count": 9,
   "id": "a6347615",
   "metadata": {},
   "outputs": [],
   "source": [
    "ensemble_regressor = RecorrentEnsembleRegressor(lstm_regressor.model, rnn_regressor.model, gru_regressor.model)\n"
   ]
  },
  {
   "cell_type": "code",
   "execution_count": 11,
   "id": "d20fda63",
   "metadata": {},
   "outputs": [
    {
     "name": "stderr",
     "output_type": "stream",
     "text": [
      "`max_epochs` was not set. Setting it to 1000 epochs. To train without an epoch limit, set `max_epochs=-1`.\n",
      "GPU available: True, used: True\n",
      "TPU available: False, using: 0 TPU cores\n",
      "IPU available: False, using: 0 IPUs\n",
      "HPU available: False, using: 0 HPUs\n",
      "LOCAL_RANK: 0 - CUDA_VISIBLE_DEVICES: [0]\n",
      "The dataloader, test_dataloader 0, does not have many workers which may be a bottleneck. Consider increasing the value of the `num_workers` argument` (try 6 which is the number of cpus on this machine) in the `DataLoader` init to improve performance.\n"
     ]
    },
    {
     "data": {
      "application/vnd.jupyter.widget-view+json": {
       "model_id": "3bff409b1e894d489d444014cbc1a846",
       "version_major": 2,
       "version_minor": 0
      },
      "text/plain": [
       "Testing: 0it [00:00, ?it/s]"
      ]
     },
     "metadata": {},
     "output_type": "display_data"
    },
    {
     "name": "stdout",
     "output_type": "stream",
     "text": [
      "────────────────────────────────────────────────────────────────────────────────────────────────────────────────────────\r\n",
      "       Test metric             DataLoader 0\r\n",
      "────────────────────────────────────────────────────────────────────────────────────────────────────────────────────────\r\n",
      "        test/MAE            0.05985904857516289\r\n",
      "        test/MAPE           0.2963481545448303\r\n",
      "        test/MSE           0.007003660313785076\r\n",
      "        test/MSLE          0.039942581206560135\r\n",
      "        test/RMSE           0.05985904857516289\r\n",
      "       test/SMAPE           0.18973229825496674\r\n",
      "       test/WMAPE           0.2963481545448303\r\n",
      "     test/test_loss        0.007003660313785076\r\n",
      "────────────────────────────────────────────────────────────────────────────────────────────────────────────────────────\n"
     ]
    },
    {
     "data": {
      "text/plain": [
       "[{'test/MAE': 0.05985904857516289,\n",
       "  'test/MAPE': 0.2963481545448303,\n",
       "  'test/SMAPE': 0.18973229825496674,\n",
       "  'test/WMAPE': 0.2963481545448303,\n",
       "  'test/MSE': 0.007003660313785076,\n",
       "  'test/RMSE': 0.05985904857516289,\n",
       "  'test/MSLE': 0.039942581206560135,\n",
       "  'test/test_loss': 0.007003660313785076}]"
      ]
     },
     "execution_count": 11,
     "metadata": {},
     "output_type": "execute_result"
    }
   ],
   "source": [
    "trainer = pl.Trainer(accelerator='gpu', gpus=1)\n",
    "trainer.test(lstm_regressor, data_module.test_dataloader())\n"
   ]
  },
  {
   "cell_type": "code",
   "execution_count": 29,
   "id": "31646ad9",
   "metadata": {},
   "outputs": [
    {
     "name": "stderr",
     "output_type": "stream",
     "text": [
      "GPU available: True, used: True\n",
      "TPU available: False, using: 0 TPU cores\n",
      "IPU available: False, using: 0 IPUs\n",
      "HPU available: False, using: 0 HPUs\n",
      "LOCAL_RANK: 0 - CUDA_VISIBLE_DEVICES: [0]\n"
     ]
    },
    {
     "data": {
      "application/vnd.jupyter.widget-view+json": {
       "model_id": "17f4c5e8e100407084d10824d95e3138",
       "version_major": 2,
       "version_minor": 0
      },
      "text/plain": [
       "Testing: 0it [00:00, ?it/s]"
      ]
     },
     "metadata": {},
     "output_type": "display_data"
    },
    {
     "name": "stdout",
     "output_type": "stream",
     "text": [
      "────────────────────────────────────────────────────────────────────────────────────────────────────────────────────────\r\n",
      "       Test metric             DataLoader 0\r\n",
      "────────────────────────────────────────────────────────────────────────────────────────────────────────────────────────\r\n",
      "        test/MAE            0.8462299704551697\r\n",
      "        test/MAPE            2.005892753601074\r\n",
      "        test/MSE            0.7721810936927795\r\n",
      "        test/MSLE            1.396320104598999\r\n",
      "        test/RMSE           0.8462299704551697\r\n",
      "       test/SMAPE            1.965131402015686\r\n",
      "       test/WMAPE            2.005892753601074\r\n",
      "     test/test_loss         0.7721810936927795\r\n",
      "────────────────────────────────────────────────────────────────────────────────────────────────────────────────────────\n"
     ]
    },
    {
     "data": {
      "text/plain": [
       "[{'test/MAE': 0.8462299704551697,\n",
       "  'test/MAPE': 2.005892753601074,\n",
       "  'test/SMAPE': 1.965131402015686,\n",
       "  'test/WMAPE': 2.005892753601074,\n",
       "  'test/MSE': 0.7721810936927795,\n",
       "  'test/RMSE': 0.8462299704551697,\n",
       "  'test/MSLE': 1.396320104598999,\n",
       "  'test/test_loss': 0.7721810936927795}]"
      ]
     },
     "execution_count": 29,
     "metadata": {},
     "output_type": "execute_result"
    }
   ],
   "source": [
    "trainer = pl.Trainer(accelerator='gpu', gpus=1)\n",
    "trainer.test(ensemble_regressor, data_module.test_dataloader())\n"
   ]
  },
  {
   "cell_type": "code",
   "execution_count": 10,
   "id": "5f6099ec",
   "metadata": {},
   "outputs": [
    {
     "name": "stderr",
     "output_type": "stream",
     "text": [
      "GPU available: True, used: True\n",
      "TPU available: False, using: 0 TPU cores\n",
      "IPU available: False, using: 0 IPUs\n",
      "HPU available: False, using: 0 HPUs\n",
      "LOCAL_RANK: 0 - CUDA_VISIBLE_DEVICES: [0]\n",
      "\n",
      "   | Name          | Type                                 | Params\n",
      "------------------------------------------------------------------------\n",
      "0  | explained_var | ExplainedVariance                    | 0     \n",
      "1  | MAE           | MeanAbsoluteError                    | 0     \n",
      "2  | MAPE          | MeanAbsolutePercentageError          | 0     \n",
      "3  | SMAPE         | SymmetricMeanAbsolutePercentageError | 0     \n",
      "4  | WMAPE         | WeightedMeanAbsolutePercentageError  | 0     \n",
      "5  | MSE           | MeanSquaredError                     | 0     \n",
      "6  | RMSE          | MeanSquaredError                     | 0     \n",
      "7  | MSLE          | MeanSquaredLogError                  | 0     \n",
      "8  | pearson_coef  | PearsonCorrCoef                      | 0     \n",
      "9  | spearman_coef | SpearmanCorrCoef                     | 0     \n",
      "10 | tweedie_dev   | TweedieDevianceScore                 | 0     \n",
      "11 | ensemble      | RecorrentEnsemble                    | 3.1 M \n",
      "12 | criterion     | MSELoss                              | 0     \n",
      "------------------------------------------------------------------------\n",
      "3.1 M     Trainable params\n",
      "0         Non-trainable params\n",
      "3.1 M     Total params\n",
      "12.349    Total estimated model params size (MB)\n"
     ]
    },
    {
     "data": {
      "application/vnd.jupyter.widget-view+json": {
       "model_id": "",
       "version_major": 2,
       "version_minor": 0
      },
      "text/plain": [
       "Sanity Checking: 0it [00:00, ?it/s]"
      ]
     },
     "metadata": {},
     "output_type": "display_data"
    },
    {
     "name": "stderr",
     "output_type": "stream",
     "text": [
      "The dataloader, val_dataloader 0, does not have many workers which may be a bottleneck. Consider increasing the value of the `num_workers` argument` (try 6 which is the number of cpus on this machine) in the `DataLoader` init to improve performance.\n",
      "The dataloader, train_dataloader, does not have many workers which may be a bottleneck. Consider increasing the value of the `num_workers` argument` (try 6 which is the number of cpus on this machine) in the `DataLoader` init to improve performance.\n"
     ]
    },
    {
     "data": {
      "application/vnd.jupyter.widget-view+json": {
       "model_id": "b0cf51b7e74f4462aca8c9cc30b79c0a",
       "version_major": 2,
       "version_minor": 0
      },
      "text/plain": [
       "Training: 0it [00:00, ?it/s]"
      ]
     },
     "metadata": {},
     "output_type": "display_data"
    },
    {
     "data": {
      "application/vnd.jupyter.widget-view+json": {
       "model_id": "",
       "version_major": 2,
       "version_minor": 0
      },
      "text/plain": [
       "Validation: 0it [00:00, ?it/s]"
      ]
     },
     "metadata": {},
     "output_type": "display_data"
    },
    {
     "data": {
      "application/vnd.jupyter.widget-view+json": {
       "model_id": "",
       "version_major": 2,
       "version_minor": 0
      },
      "text/plain": [
       "Validation: 0it [00:00, ?it/s]"
      ]
     },
     "metadata": {},
     "output_type": "display_data"
    },
    {
     "data": {
      "application/vnd.jupyter.widget-view+json": {
       "model_id": "",
       "version_major": 2,
       "version_minor": 0
      },
      "text/plain": [
       "Validation: 0it [00:00, ?it/s]"
      ]
     },
     "metadata": {},
     "output_type": "display_data"
    },
    {
     "name": "stderr",
     "output_type": "stream",
     "text": [
      "LOCAL_RANK: 0 - CUDA_VISIBLE_DEVICES: [0]\n",
      "The dataloader, test_dataloader 0, does not have many workers which may be a bottleneck. Consider increasing the value of the `num_workers` argument` (try 6 which is the number of cpus on this machine) in the `DataLoader` init to improve performance.\n"
     ]
    },
    {
     "data": {
      "application/vnd.jupyter.widget-view+json": {
       "model_id": "c9eeeee6a2bb4b8089ec9bcee883df85",
       "version_major": 2,
       "version_minor": 0
      },
      "text/plain": [
       "Testing: 0it [00:00, ?it/s]"
      ]
     },
     "metadata": {},
     "output_type": "display_data"
    },
    {
     "name": "stdout",
     "output_type": "stream",
     "text": [
      "────────────────────────────────────────────────────────────────────────────────────────────────────────────────────────\r\n",
      "       Test metric             DataLoader 0\r\n",
      "────────────────────────────────────────────────────────────────────────────────────────────────────────────────────────\r\n",
      "        test/MAE            0.15851815044879913\r\n",
      "        test/MAPE            1.537406086921692\r\n",
      "        test/MSE            0.04945451021194458\r\n",
      "        test/MSLE           0.23599125444889069\r\n",
      "        test/RMSE           0.15851815044879913\r\n",
      "       test/SMAPE           0.3348552882671356\r\n",
      "       test/WMAPE            1.537406086921692\r\n",
      "     test/test_loss         0.04945451021194458\r\n",
      "────────────────────────────────────────────────────────────────────────────────────────────────────────────────────────\n"
     ]
    },
    {
     "data": {
      "text/plain": [
       "[{'test/MAE': 0.15851815044879913,\n",
       "  'test/MAPE': 1.537406086921692,\n",
       "  'test/SMAPE': 0.3348552882671356,\n",
       "  'test/WMAPE': 1.537406086921692,\n",
       "  'test/MSE': 0.04945451021194458,\n",
       "  'test/RMSE': 0.15851815044879913,\n",
       "  'test/MSLE': 0.23599125444889069,\n",
       "  'test/test_loss': 0.04945451021194458}]"
      ]
     },
     "execution_count": 10,
     "metadata": {},
     "output_type": "execute_result"
    }
   ],
   "source": [
    "trainer = pl.Trainer(accelerator='gpu', gpus=1, max_epochs=3)\n",
    "trainer.fit(ensemble_regressor, data_module.train_dataloader(), data_module.val_dataloader())\n",
    "trainer.test(ensemble_regressor, data_module.test_dataloader())"
   ]
  },
  {
   "cell_type": "code",
   "execution_count": null,
   "id": "c38a6521",
   "metadata": {},
   "outputs": [],
   "source": []
  }
 ],
 "metadata": {
  "kernelspec": {
   "display_name": "Python 3 (ipykernel)",
   "language": "python",
   "name": "python3"
  },
  "language_info": {
   "codemirror_mode": {
    "name": "ipython",
    "version": 3
   },
   "file_extension": ".py",
   "mimetype": "text/x-python",
   "name": "python",
   "nbconvert_exporter": "python",
   "pygments_lexer": "ipython3",
   "version": "3.9.12"
  }
 },
 "nbformat": 4,
 "nbformat_minor": 5
}
